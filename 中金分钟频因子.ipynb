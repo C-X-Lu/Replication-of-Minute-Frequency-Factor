{
 "cells": [
  {
   "metadata": {},
   "cell_type": "code",
   "outputs": [],
   "execution_count": null,
   "source": [
    "from MinuteFrequentFactorCICC import MinFreqFactor\n",
    "from MinuteFrequentFactorCalculateMethodsCICC import *"
   ],
   "id": "c256243635751a5c"
  },
  {
   "metadata": {},
   "cell_type": "markdown",
   "source": "动量反转",
   "id": "7e9e019cb922fc5f"
  },
  {
   "metadata": {},
   "cell_type": "code",
   "outputs": [],
   "execution_count": null,
   "source": [
    "mmt_pm = MinFreqFactor('mmt_pm')\n",
    "mmt_pm.cal_exposure_by_min_data(\n",
    "    cal_mmt_pm,\n",
    "    path=r'D:\\QuantData\\MinuteFreqFactor\\CICC Factor\\Raw Factor'\n",
    ")\n",
    "mmt_pm.to_parquet(path=r'D:\\QuantData\\MinuteFreqFactor\\CICC Factor\\Raw Factor')"
   ],
   "id": "a3f926c398fd6826"
  },
  {
   "metadata": {
    "ExecuteTime": {
     "end_time": "2025-09-02T08:59:48.401511Z",
     "start_time": "2025-09-02T08:59:47.622719Z"
    }
   },
   "cell_type": "code",
   "source": [
    "mmt_last30 = MinFreqFactor('mmt_last30')\n",
    "mmt_last30.cal_exposure_by_min_data(\n",
    "    cal_mmt_last30,\n",
    "    path=r'D:\\QuantData\\MinuteFreqFactor\\CICC Factor\\Raw Factor'\n",
    ")\n",
    "mmt_last30.to_parquet(\n",
    "    path=r'D:\\QuantData\\MinuteFreqFactor\\CICC Factor\\Raw Factor'\n",
    ")"
   ],
   "id": "26b7b239d21949f2",
   "outputs": [],
   "execution_count": 3
  },
  {
   "metadata": {
    "ExecuteTime": {
     "end_time": "2025-09-02T08:59:49.144724Z",
     "start_time": "2025-09-02T08:59:48.412190Z"
    }
   },
   "cell_type": "code",
   "source": [
    "mmt_paratio = MinFreqFactor('mmt_paratio')\n",
    "mmt_paratio.cal_exposure_by_min_data(\n",
    "    cal_mmt_paratio,\n",
    "    path=r'D:\\QuantData\\MinuteFreqFactor\\CICC Factor\\Raw Factor'\n",
    ")\n",
    "mmt_paratio.to_parquet(\n",
    "    path=r'D:\\QuantData\\MinuteFreqFactor\\CICC Factor\\Raw Factor'\n",
    ")"
   ],
   "id": "f38f17124d34270d",
   "outputs": [],
   "execution_count": 4
  },
  {
   "metadata": {
    "ExecuteTime": {
     "end_time": "2025-09-02T08:59:49.957043Z",
     "start_time": "2025-09-02T08:59:49.150721Z"
    }
   },
   "cell_type": "code",
   "source": [
    "mmt_am = MinFreqFactor('mmt_am')\n",
    "mmt_am.cal_exposure_by_min_data(\n",
    "    cal_mmt_am,\n",
    "    path=r'D:\\QuantData\\MinuteFreqFactor\\CICC Factor\\Raw Factor'\n",
    ")\n",
    "mmt_am.to_parquet(path=r'D:\\QuantData\\MinuteFreqFactor\\CICC Factor\\Raw Factor')"
   ],
   "id": "e2739514b97df4cb",
   "outputs": [],
   "execution_count": 5
  },
  {
   "metadata": {
    "ExecuteTime": {
     "end_time": "2025-09-02T08:59:50.790974Z",
     "start_time": "2025-09-02T08:59:49.971771Z"
    }
   },
   "cell_type": "code",
   "source": [
    "mmt_between = MinFreqFactor('mmt_between')\n",
    "mmt_between.cal_exposure_by_min_data(\n",
    "    cal_mmt_between,\n",
    "    path=r'D:\\QuantData\\MinuteFreqFactor\\CICC Factor\\Raw Factor'\n",
    ")\n",
    "mmt_between.to_parquet(path=r'D:\\QuantData\\MinuteFreqFactor\\CICC Factor\\Raw Factor')"
   ],
   "id": "d56a6369221961c6",
   "outputs": [],
   "execution_count": 6
  },
  {
   "metadata": {
    "ExecuteTime": {
     "end_time": "2025-09-02T08:59:51.505175Z",
     "start_time": "2025-09-02T08:59:50.803208Z"
    }
   },
   "cell_type": "code",
   "source": [
    "mmt_ols_qrs = MinFreqFactor('mmt_ols_qrs')\n",
    "mmt_ols_qrs.cal_exposure_by_min_data(\n",
    "    cal_mmt_ols_qrs,\n",
    "    path=r'D:\\QuantData\\MinuteFreqFactor\\CICC Factor\\Raw Factor'\n",
    ")\n",
    "mmt_ols_qrs.to_parquet(path=r'D:\\QuantData\\MinuteFreqFactor\\CICC Factor\\Raw Factor')"
   ],
   "id": "3425ca72be1fef9",
   "outputs": [],
   "execution_count": 7
  },
  {
   "metadata": {
    "ExecuteTime": {
     "end_time": "2025-09-02T08:59:52.094985Z",
     "start_time": "2025-09-02T08:59:51.510636Z"
    }
   },
   "cell_type": "code",
   "source": [
    "mmt_ols_corr_square_mean = MinFreqFactor('mmt_ols_corr_square_mean')\n",
    "mmt_ols_corr_square_mean.cal_exposure_by_min_data(\n",
    "    cal_mmt_ols_corr_square_mean,\n",
    "    path=r'D:\\QuantData\\MinuteFreqFactor\\CICC Factor\\Raw Factor'\n",
    ")\n",
    "mmt_ols_corr_square_mean.to_parquet(path=r'D:\\QuantData\\MinuteFreqFactor\\CICC Factor\\Raw Factor')"
   ],
   "id": "469ba867eb656ed2",
   "outputs": [],
   "execution_count": 8
  },
  {
   "metadata": {
    "ExecuteTime": {
     "end_time": "2025-09-02T08:59:52.708908Z",
     "start_time": "2025-09-02T08:59:52.101948Z"
    }
   },
   "cell_type": "code",
   "source": [
    "mmt_ols_corr_mean = MinFreqFactor('mmt_ols_corr_mean')\n",
    "mmt_ols_corr_mean.cal_exposure_by_min_data(\n",
    "    cal_mmt_ols_corr_mean,\n",
    "    path=r'D:\\QuantData\\MinuteFreqFactor\\CICC Factor\\Raw Factor'\n",
    ")\n",
    "mmt_ols_corr_mean.to_parquet(path=r'D:\\QuantData\\MinuteFreqFactor\\CICC Factor\\Raw Factor')"
   ],
   "id": "17917c9ac0563f93",
   "outputs": [],
   "execution_count": 9
  },
  {
   "metadata": {
    "ExecuteTime": {
     "end_time": "2025-09-02T08:59:53.312545Z",
     "start_time": "2025-09-02T08:59:52.722761Z"
    }
   },
   "cell_type": "code",
   "source": [
    "mmt_ols_beta_mean = MinFreqFactor('mmt_ols_beta_mean')\n",
    "mmt_ols_beta_mean.cal_exposure_by_min_data(\n",
    "    cal_mmt_ols_beta_mean,\n",
    "    path=r'D:\\QuantData\\MinuteFreqFactor\\CICC Factor\\Raw Factor'\n",
    ")\n",
    "mmt_ols_beta_mean.to_parquet(path=r'D:\\QuantData\\MinuteFreqFactor\\CICC Factor\\Raw Factor')"
   ],
   "id": "4ce8c956887df3d4",
   "outputs": [],
   "execution_count": 10
  },
  {
   "metadata": {
    "ExecuteTime": {
     "end_time": "2025-09-02T08:59:53.915911Z",
     "start_time": "2025-09-02T08:59:53.318484Z"
    }
   },
   "cell_type": "code",
   "source": [
    "mmt_ols_beta_zscore_last = MinFreqFactor('mmt_ols_beta_zscore_last')\n",
    "mmt_ols_beta_zscore_last.cal_exposure_by_min_data(\n",
    "    cal_mmt_ols_beta_zscore_last,\n",
    "    path=r'D:\\QuantData\\MinuteFreqFactor\\CICC Factor\\Raw Factor'\n",
    ")\n",
    "mmt_ols_beta_zscore_last.to_parquet(path=r'D:\\QuantData\\MinuteFreqFactor\\CICC Factor\\Raw Factor')"
   ],
   "id": "7c57a9515fccefb3",
   "outputs": [],
   "execution_count": 11
  },
  {
   "metadata": {
    "ExecuteTime": {
     "end_time": "2025-09-02T08:59:54.508056Z",
     "start_time": "2025-09-02T08:59:53.926291Z"
    }
   },
   "cell_type": "code",
   "source": [
    "mmt_top50VolumeRet = MinFreqFactor('mmt_top50VolumeRet')\n",
    "mmt_top50VolumeRet.cal_exposure_by_min_data(\n",
    "    cal_mmt_top50VolumeRet,\n",
    "    path=r'D:\\QuantData\\MinuteFreqFactor\\CICC Factor\\Raw Factor'\n",
    ")\n",
    "mmt_top50VolumeRet.to_parquet(path=r'D:\\QuantData\\MinuteFreqFactor\\CICC Factor\\Raw Factor')"
   ],
   "id": "b1e677aba7090790",
   "outputs": [],
   "execution_count": 12
  },
  {
   "metadata": {
    "ExecuteTime": {
     "end_time": "2025-09-02T08:59:55.271900Z",
     "start_time": "2025-09-02T08:59:54.513602Z"
    }
   },
   "cell_type": "code",
   "source": [
    "mmt_bottom50VolumeRet = MinFreqFactor('mmt_bottom50VolumeRet')\n",
    "mmt_bottom50VolumeRet.cal_exposure_by_min_data(\n",
    "    cal_mmt_bottom50VolumeRet,\n",
    "    path=r'D:\\QuantData\\MinuteFreqFactor\\CICC Factor\\Raw Factor'\n",
    ")\n",
    "mmt_bottom50VolumeRet.to_parquet(path=r'D:\\QuantData\\MinuteFreqFactor\\CICC Factor\\Raw Factor')"
   ],
   "id": "3047d11cc5d2d0ea",
   "outputs": [],
   "execution_count": 13
  },
  {
   "metadata": {
    "ExecuteTime": {
     "end_time": "2025-09-02T08:59:55.864973Z",
     "start_time": "2025-09-02T08:59:55.278307Z"
    }
   },
   "cell_type": "code",
   "source": [
    "mmt_top20VolumeRet = MinFreqFactor('mmt_top20VolumeRet')\n",
    "mmt_top20VolumeRet.cal_exposure_by_min_data(\n",
    "    cal_mmt_top20VolumeRet,\n",
    "    path=r'D:\\QuantData\\MinuteFreqFactor\\CICC Factor\\Raw Factor'\n",
    ")\n",
    "mmt_top20VolumeRet.to_parquet(path=r'D:\\QuantData\\MinuteFreqFactor\\CICC Factor\\Raw Factor')"
   ],
   "id": "8130c91bdea1ff7",
   "outputs": [],
   "execution_count": 14
  },
  {
   "metadata": {
    "ExecuteTime": {
     "end_time": "2025-09-02T08:59:56.631584Z",
     "start_time": "2025-09-02T08:59:55.877045Z"
    }
   },
   "cell_type": "code",
   "source": [
    "mmt_bottom20VolumeRet = MinFreqFactor('mmt_bottom20VolumeRet')\n",
    "mmt_bottom20VolumeRet.cal_exposure_by_min_data(\n",
    "    cal_mmt_bottom20VolumeRet,\n",
    "    path=r'D:\\QuantData\\MinuteFreqFactor\\CICC Factor\\Raw Factor'\n",
    ")\n",
    "mmt_bottom20VolumeRet.to_parquet(path=r'D:\\QuantData\\MinuteFreqFactor\\CICC Factor\\Raw Factor')"
   ],
   "id": "5cb6bfed2d7dac85",
   "outputs": [],
   "execution_count": 15
  },
  {
   "metadata": {},
   "cell_type": "markdown",
   "source": "波动率",
   "id": "3c05fe8f62def4d5"
  },
  {
   "metadata": {
    "ExecuteTime": {
     "end_time": "2025-09-02T08:59:57.215668Z",
     "start_time": "2025-09-02T08:59:56.637774Z"
    }
   },
   "cell_type": "code",
   "source": [
    "vol_volume1min = MinFreqFactor('vol_volume1min')\n",
    "vol_volume1min.cal_exposure_by_min_data(\n",
    "    cal_vol_volume1min,\n",
    "    path=r'D:\\QuantData\\MinuteFreqFactor\\CICC Factor\\Raw Factor'\n",
    ")\n",
    "vol_volume1min.to_parquet(path=r'D:\\QuantData\\MinuteFreqFactor\\CICC Factor\\Raw Factor')"
   ],
   "id": "fc3bcec40cc15fe3",
   "outputs": [],
   "execution_count": 16
  },
  {
   "metadata": {
    "ExecuteTime": {
     "end_time": "2025-09-02T08:59:57.828968Z",
     "start_time": "2025-09-02T08:59:57.230206Z"
    }
   },
   "cell_type": "code",
   "source": [
    "vol_range1min = MinFreqFactor('vol_range1min')\n",
    "vol_range1min.cal_exposure_by_min_data(\n",
    "    cal_vol_range1min,\n",
    "    path=r'D:\\QuantData\\MinuteFreqFactor\\CICC Factor\\Raw Factor'\n",
    ")\n",
    "vol_range1min.to_parquet(path=r'D:\\QuantData\\MinuteFreqFactor\\CICC Factor\\Raw Factor')"
   ],
   "id": "3e0501f4c5de5a52",
   "outputs": [],
   "execution_count": 17
  },
  {
   "metadata": {
    "ExecuteTime": {
     "end_time": "2025-09-02T08:59:58.440124Z",
     "start_time": "2025-09-02T08:59:57.834829Z"
    }
   },
   "cell_type": "code",
   "source": [
    "vol_return1min = MinFreqFactor('vol_return1min')\n",
    "vol_return1min.cal_exposure_by_min_data(\n",
    "    cal_vol_return1min,\n",
    "    path=r'D:\\QuantData\\MinuteFreqFactor\\CICC Factor\\Raw Factor'\n",
    ")\n",
    "vol_return1min.to_parquet(path=r'D:\\QuantData\\MinuteFreqFactor\\CICC Factor\\Raw Factor')"
   ],
   "id": "673295408aee72e3",
   "outputs": [],
   "execution_count": 18
  },
  {
   "metadata": {
    "ExecuteTime": {
     "end_time": "2025-09-02T08:59:59.056907Z",
     "start_time": "2025-09-02T08:59:58.446193Z"
    }
   },
   "cell_type": "code",
   "source": [
    "vol_upVol = MinFreqFactor('vol_upVol')\n",
    "vol_upVol.cal_exposure_by_min_data(\n",
    "    cal_vol_upVol,\n",
    "    path=r'D:\\QuantData\\MinuteFreqFactor\\CICC Factor\\Raw Factor'\n",
    ")\n",
    "vol_upVol.to_parquet(path=r'D:\\QuantData\\MinuteFreqFactor\\CICC Factor\\Raw Factor')"
   ],
   "id": "bffc1da19039bc4d",
   "outputs": [],
   "execution_count": 19
  },
  {
   "metadata": {
    "ExecuteTime": {
     "end_time": "2025-09-02T08:59:59.669650Z",
     "start_time": "2025-09-02T08:59:59.063401Z"
    }
   },
   "cell_type": "code",
   "source": [
    "vol_upRatio = MinFreqFactor('vol_upRatio')\n",
    "vol_upRatio.cal_exposure_by_min_data(\n",
    "    cal_vol_upRatio,\n",
    "    path=r'D:\\QuantData\\MinuteFreqFactor\\CICC Factor\\Raw Factor'\n",
    ")\n",
    "vol_upRatio.to_parquet(path=r'D:\\QuantData\\MinuteFreqFactor\\CICC Factor\\Raw Factor')"
   ],
   "id": "d2447d8c1a396dad",
   "outputs": [],
   "execution_count": 20
  },
  {
   "metadata": {
    "ExecuteTime": {
     "end_time": "2025-09-02T09:00:00.302042Z",
     "start_time": "2025-09-02T08:59:59.676742Z"
    }
   },
   "cell_type": "code",
   "source": [
    "vol_downVol = MinFreqFactor('vol_downVol')\n",
    "vol_downVol.cal_exposure_by_min_data(\n",
    "    cal_vol_downVol,\n",
    "    path=r'D:\\QuantData\\MinuteFreqFactor\\CICC Factor\\Raw Factor'\n",
    ")\n",
    "vol_downVol.to_parquet(path=r'D:\\QuantData\\MinuteFreqFactor\\CICC Factor\\Raw Factor')"
   ],
   "id": "a7b70da9cf023c0e",
   "outputs": [],
   "execution_count": 21
  },
  {
   "metadata": {
    "ExecuteTime": {
     "end_time": "2025-09-02T09:00:00.930534Z",
     "start_time": "2025-09-02T09:00:00.308196Z"
    }
   },
   "cell_type": "code",
   "source": [
    "vol_downRatio = MinFreqFactor('vol_downRatio')\n",
    "vol_downRatio.cal_exposure_by_min_data(\n",
    "    cal_vol_downRatio,\n",
    "    path=r'D:\\QuantData\\MinuteFreqFactor\\CICC Factor\\Raw Factor'\n",
    ")\n",
    "vol_downRatio.to_parquet(path=r'D:\\QuantData\\MinuteFreqFactor\\CICC Factor\\Raw Factor')"
   ],
   "id": "34904cf072ebda07",
   "outputs": [],
   "execution_count": 22
  },
  {
   "metadata": {},
   "cell_type": "markdown",
   "source": "高阶特征",
   "id": "ec7a780d37a2524a"
  },
  {
   "metadata": {
    "ExecuteTime": {
     "end_time": "2025-09-02T09:00:01.551317Z",
     "start_time": "2025-09-02T09:00:00.941408Z"
    }
   },
   "cell_type": "code",
   "source": [
    "shape_skew = MinFreqFactor('shape_skew')\n",
    "shape_skew.cal_exposure_by_min_data(\n",
    "    cal_shape_skew,\n",
    "    path=r'D:\\QuantData\\MinuteFreqFactor\\CICC Factor\\Raw Factor'\n",
    ")\n",
    "shape_skew.to_parquet(path=r'D:\\QuantData\\MinuteFreqFactor\\CICC Factor\\Raw Factor')"
   ],
   "id": "71d622a000470e64",
   "outputs": [],
   "execution_count": 23
  },
  {
   "metadata": {
    "ExecuteTime": {
     "end_time": "2025-09-02T09:00:02.169614Z",
     "start_time": "2025-09-02T09:00:01.557355Z"
    }
   },
   "cell_type": "code",
   "source": [
    "shape_kurt = MinFreqFactor('shape_kurt')\n",
    "shape_kurt.cal_exposure_by_min_data(\n",
    "    cal_shape_kurt,\n",
    "    path=r'D:\\QuantData\\MinuteFreqFactor\\CICC Factor\\Raw Factor'\n",
    ")\n",
    "shape_kurt.to_parquet(path=r'D:\\QuantData\\MinuteFreqFactor\\CICC Factor\\Raw Factor')"
   ],
   "id": "5d4b09cebcd13d02",
   "outputs": [],
   "execution_count": 24
  },
  {
   "metadata": {
    "ExecuteTime": {
     "end_time": "2025-09-02T09:00:02.805429Z",
     "start_time": "2025-09-02T09:00:02.176301Z"
    }
   },
   "cell_type": "code",
   "source": [
    "shape_skratio = MinFreqFactor('shape_skratio')\n",
    "shape_skratio.cal_exposure_by_min_data(\n",
    "    cal_shape_skratio,\n",
    "    path=r'D:\\QuantData\\MinuteFreqFactor\\CICC Factor\\Raw Factor'\n",
    ")\n",
    "shape_skratio.to_parquet(path=r'D:\\QuantData\\MinuteFreqFactor\\CICC Factor\\Raw Factor')"
   ],
   "id": "86565b132f446e9f",
   "outputs": [],
   "execution_count": 25
  },
  {
   "metadata": {
    "ExecuteTime": {
     "end_time": "2025-09-02T09:00:03.390550Z",
     "start_time": "2025-09-02T09:00:02.811572Z"
    }
   },
   "cell_type": "code",
   "source": [
    "shape_skewVol = MinFreqFactor('shape_skewVol')\n",
    "shape_skewVol.cal_exposure_by_min_data(\n",
    "    cal_shape_skewVol,\n",
    "    path=r'D:\\QuantData\\MinuteFreqFactor\\CICC Factor\\Raw Factor'\n",
    ")\n",
    "shape_skewVol.to_parquet(path=r'D:\\QuantData\\MinuteFreqFactor\\CICC Factor\\Raw Factor')"
   ],
   "id": "748e0a0d7fc4bad9",
   "outputs": [],
   "execution_count": 26
  },
  {
   "metadata": {
    "ExecuteTime": {
     "end_time": "2025-09-02T09:00:03.973543Z",
     "start_time": "2025-09-02T09:00:03.398579Z"
    }
   },
   "cell_type": "code",
   "source": [
    "shape_kurtVol = MinFreqFactor('shape_kurtVol')\n",
    "shape_kurtVol.cal_exposure_by_min_data(\n",
    "    cal_shape_kurtVol,\n",
    "    path=r'D:\\QuantData\\MinuteFreqFactor\\CICC Factor\\Raw Factor'\n",
    ")\n",
    "shape_kurtVol.to_parquet(path=r'D:\\QuantData\\MinuteFreqFactor\\CICC Factor\\Raw Factor')"
   ],
   "id": "ce437b5b41f8f5cb",
   "outputs": [],
   "execution_count": 27
  },
  {
   "metadata": {
    "ExecuteTime": {
     "end_time": "2025-09-02T09:00:04.542764Z",
     "start_time": "2025-09-02T09:00:03.979532Z"
    }
   },
   "cell_type": "code",
   "source": [
    "shape_skratioVol = MinFreqFactor('shape_skratioVol')\n",
    "shape_skratioVol.cal_exposure_by_min_data(\n",
    "    cal_shape_skratioVol,\n",
    "    path=r'D:\\QuantData\\MinuteFreqFactor\\CICC Factor\\Raw Factor'\n",
    ")\n",
    "shape_skratioVol.to_parquet(path=r'D:\\QuantData\\MinuteFreqFactor\\CICC Factor\\Raw Factor')"
   ],
   "id": "4c2ad10e994c4791",
   "outputs": [],
   "execution_count": 28
  },
  {
   "metadata": {},
   "cell_type": "markdown",
   "source": "流动性",
   "id": "bd35d7eae2b41ce6"
  },
  {
   "metadata": {
    "ExecuteTime": {
     "end_time": "2025-09-02T09:00:05.189125Z",
     "start_time": "2025-09-02T09:00:04.549304Z"
    }
   },
   "cell_type": "code",
   "source": [
    "liq_amihud_1min = MinFreqFactor('liq_amihud_1min')\n",
    "liq_amihud_1min.cal_exposure_by_min_data(\n",
    "    cal_liq_amihud_1min,\n",
    "    path=r'D:\\QuantData\\MinuteFreqFactor\\CICC Factor\\Raw Factor'\n",
    ")\n",
    "liq_amihud_1min.to_parquet(path=r'D:\\QuantData\\MinuteFreqFactor\\CICC Factor\\Raw Factor')"
   ],
   "id": "b0ee6365df9c65f4",
   "outputs": [],
   "execution_count": 29
  },
  {
   "metadata": {
    "ExecuteTime": {
     "end_time": "2025-09-02T09:00:06.003388Z",
     "start_time": "2025-09-02T09:00:05.196154Z"
    }
   },
   "cell_type": "code",
   "source": [
    "liq_closeprevol = MinFreqFactor('liq_closeprevol')\n",
    "liq_closeprevol.cal_exposure_by_min_data(\n",
    "    cal_liq_closeprevol,\n",
    "    path=r'D:\\QuantData\\MinuteFreqFactor\\CICC Factor\\Raw Factor'\n",
    ")\n",
    "liq_closeprevol.to_parquet(path=r'D:\\QuantData\\MinuteFreqFactor\\CICC Factor\\Raw Factor')"
   ],
   "id": "e5088a180c44ed51",
   "outputs": [],
   "execution_count": 30
  },
  {
   "metadata": {
    "ExecuteTime": {
     "end_time": "2025-09-02T09:00:06.783963Z",
     "start_time": "2025-09-02T09:00:06.013724Z"
    }
   },
   "cell_type": "code",
   "source": [
    "liq_closevol = MinFreqFactor('liq_closevol')\n",
    "liq_closevol.cal_exposure_by_min_data(\n",
    "    cal_liq_closevol,\n",
    "    path=r'D:\\QuantData\\MinuteFreqFactor\\CICC Factor\\Raw Factor'\n",
    ")\n",
    "liq_closevol.to_parquet(path=r'D:\\QuantData\\MinuteFreqFactor\\CICC Factor\\Raw Factor')"
   ],
   "id": "a69f50bd287bf507",
   "outputs": [],
   "execution_count": 31
  },
  {
   "metadata": {
    "ExecuteTime": {
     "end_time": "2025-09-02T09:00:07.398930Z",
     "start_time": "2025-09-02T09:00:06.790832Z"
    }
   },
   "cell_type": "code",
   "source": [
    "liq_firstCallR = MinFreqFactor('liq_firstCallR')\n",
    "liq_firstCallR.cal_exposure_by_min_data(\n",
    "    cal_liq_firstCallR,\n",
    "    path=r'D:\\QuantData\\MinuteFreqFactor\\CICC Factor\\Raw Factor'\n",
    ")\n",
    "liq_firstCallR.to_parquet(path=r'D:\\QuantData\\MinuteFreqFactor\\CICC Factor\\Raw Factor')"
   ],
   "id": "c86e4db496a4076a",
   "outputs": [],
   "execution_count": 32
  },
  {
   "metadata": {
    "ExecuteTime": {
     "end_time": "2025-09-02T09:00:07.987419Z",
     "start_time": "2025-09-02T09:00:07.405012Z"
    }
   },
   "cell_type": "code",
   "source": [
    "liq_lastCallR = MinFreqFactor('liq_lastCallR')\n",
    "liq_lastCallR.cal_exposure_by_min_data(\n",
    "    cal_liq_lastCallR,\n",
    "    path=r'D:\\QuantData\\MinuteFreqFactor\\CICC Factor\\Raw Factor'\n",
    ")\n",
    "liq_lastCallR.to_parquet(path=r'D:\\QuantData\\MinuteFreqFactor\\CICC Factor\\Raw Factor')"
   ],
   "id": "ce91a2cbc94a13e1",
   "outputs": [],
   "execution_count": 33
  },
  {
   "metadata": {
    "ExecuteTime": {
     "end_time": "2025-09-02T09:00:08.777542Z",
     "start_time": "2025-09-02T09:00:07.992904Z"
    }
   },
   "cell_type": "code",
   "source": [
    "liq_openvol = MinFreqFactor('liq_openvol')\n",
    "liq_openvol.cal_exposure_by_min_data(\n",
    "    cal_liq_openvol,\n",
    "    path=r'D:\\QuantData\\MinuteFreqFactor\\CICC Factor\\Raw Factor'\n",
    ")\n",
    "liq_openvol.to_parquet(path=r'D:\\QuantData\\MinuteFreqFactor\\CICC Factor\\Raw Factor')"
   ],
   "id": "ea7340c499f1d7a9",
   "outputs": [],
   "execution_count": 34
  },
  {
   "metadata": {},
   "cell_type": "markdown",
   "source": "量价相关性",
   "id": "cf5931e22bcae303"
  },
  {
   "metadata": {
    "ExecuteTime": {
     "end_time": "2025-09-02T09:00:09.393390Z",
     "start_time": "2025-09-02T09:00:08.788875Z"
    }
   },
   "cell_type": "code",
   "source": [
    "corr_prv = MinFreqFactor('corr_prv')\n",
    "corr_prv.cal_exposure_by_min_data(\n",
    "    cal_corr_prv,\n",
    "    path=r'D:\\QuantData\\MinuteFreqFactor\\CICC Factor\\Raw Factor'\n",
    ")\n",
    "corr_prv.to_parquet(path=r'D:\\QuantData\\MinuteFreqFactor\\CICC Factor\\Raw Factor')"
   ],
   "id": "83d4f8ec5acd54df",
   "outputs": [],
   "execution_count": 35
  },
  {
   "metadata": {
    "ExecuteTime": {
     "end_time": "2025-09-02T09:00:10.026598Z",
     "start_time": "2025-09-02T09:00:09.412402Z"
    }
   },
   "cell_type": "code",
   "source": [
    "corr_prvr = MinFreqFactor('corr_prvr')\n",
    "corr_prvr.cal_exposure_by_min_data(\n",
    "    cal_corr_prvr,\n",
    "    path=r'D:\\QuantData\\MinuteFreqFactor\\CICC Factor\\Raw Factor'\n",
    ")\n",
    "corr_prvr.to_parquet(path=r'D:\\QuantData\\MinuteFreqFactor\\CICC Factor\\Raw Factor')"
   ],
   "id": "81c7a9e41ce5d27",
   "outputs": [],
   "execution_count": 36
  },
  {
   "metadata": {
    "ExecuteTime": {
     "end_time": "2025-09-02T09:00:10.609714Z",
     "start_time": "2025-09-02T09:00:10.033672Z"
    }
   },
   "cell_type": "code",
   "source": [
    "corr_pv = MinFreqFactor('corr_pv')\n",
    "corr_pv.cal_exposure_by_min_data(\n",
    "    cal_corr_pv,\n",
    "    path=r'D:\\QuantData\\MinuteFreqFactor\\CICC Factor\\Raw Factor'\n",
    ")\n",
    "corr_pv.to_parquet(path=r'D:\\QuantData\\MinuteFreqFactor\\CICC Factor\\Raw Factor')"
   ],
   "id": "53beb07bde0ba774",
   "outputs": [],
   "execution_count": 37
  },
  {
   "metadata": {
    "ExecuteTime": {
     "end_time": "2025-09-02T09:00:11.223728Z",
     "start_time": "2025-09-02T09:00:10.616032Z"
    }
   },
   "cell_type": "code",
   "source": [
    "corr_pvd = MinFreqFactor('corr_pvd')\n",
    "corr_pvd.cal_exposure_by_min_data(\n",
    "    cal_corr_pvd,\n",
    "    path=r'D:\\QuantData\\MinuteFreqFactor\\CICC Factor\\Raw Factor'\n",
    ")\n",
    "corr_pvd.to_parquet(path=r'D:\\QuantData\\MinuteFreqFactor\\CICC Factor\\Raw Factor')"
   ],
   "id": "557ffb2bcd480648",
   "outputs": [],
   "execution_count": 38
  },
  {
   "metadata": {
    "ExecuteTime": {
     "end_time": "2025-09-02T09:00:11.823483Z",
     "start_time": "2025-09-02T09:00:11.229454Z"
    }
   },
   "cell_type": "code",
   "source": [
    "corr_pvl = MinFreqFactor('corr_pvl')\n",
    "corr_pvl.cal_exposure_by_min_data(\n",
    "    cal_corr_pvl,\n",
    "    path=r'D:\\QuantData\\MinuteFreqFactor\\CICC Factor\\Raw Factor'\n",
    ")\n",
    "corr_pvl.to_parquet(path=r'D:\\QuantData\\MinuteFreqFactor\\CICC Factor\\Raw Factor')"
   ],
   "id": "1fd3315b0839d0d2",
   "outputs": [],
   "execution_count": 39
  },
  {
   "metadata": {
    "ExecuteTime": {
     "end_time": "2025-09-02T09:00:12.437819Z",
     "start_time": "2025-09-02T09:00:11.829645Z"
    }
   },
   "cell_type": "code",
   "source": [
    "corr_pvr = MinFreqFactor('corr_pvr')\n",
    "corr_pvr.cal_exposure_by_min_data(\n",
    "    cal_corr_pvr,\n",
    "    path=r'D:\\QuantData\\MinuteFreqFactor\\CICC Factor\\Raw Factor'\n",
    ")\n",
    "corr_pvr.to_parquet(path=r'D:\\QuantData\\MinuteFreqFactor\\CICC Factor\\Raw Factor')"
   ],
   "id": "21c9bcaae7b40c68",
   "outputs": [],
   "execution_count": 40
  },
  {
   "metadata": {},
   "cell_type": "markdown",
   "source": "筹码分布",
   "id": "7c8f1f3d5d1f515b"
  },
  {
   "metadata": {
    "ExecuteTime": {
     "end_time": "2025-09-02T09:00:13.135109Z",
     "start_time": "2025-09-02T09:00:12.443336Z"
    }
   },
   "cell_type": "code",
   "source": [
    "doc_kurt = MinFreqFactor('doc_kurt')\n",
    "doc_kurt.cal_exposure_by_min_data(\n",
    "    cal_doc_kurt,\n",
    "    path=r'D:\\QuantData\\MinuteFreqFactor\\CICC Factor\\Raw Factor'\n",
    ")\n",
    "doc_kurt.to_parquet(path=r'D:\\QuantData\\MinuteFreqFactor\\CICC Factor\\Raw Factor')"
   ],
   "id": "227951087f7a2cac",
   "outputs": [],
   "execution_count": 41
  },
  {
   "metadata": {
    "ExecuteTime": {
     "end_time": "2025-09-02T09:00:13.815788Z",
     "start_time": "2025-09-02T09:00:13.142379Z"
    }
   },
   "cell_type": "code",
   "source": [
    "doc_skew = MinFreqFactor('doc_skew')\n",
    "doc_skew.cal_exposure_by_min_data(\n",
    "    cal_doc_skew,\n",
    "    path=r'D:\\QuantData\\MinuteFreqFactor\\CICC Factor\\Raw Factor'\n",
    ")\n",
    "doc_skew.to_parquet(path=r'D:\\QuantData\\MinuteFreqFactor\\CICC Factor\\Raw Factor')"
   ],
   "id": "b86e253d0c4299c4",
   "outputs": [],
   "execution_count": 42
  },
  {
   "metadata": {
    "ExecuteTime": {
     "end_time": "2025-09-02T09:00:14.501236Z",
     "start_time": "2025-09-02T09:00:13.828918Z"
    }
   },
   "cell_type": "code",
   "source": [
    "doc_std = MinFreqFactor('doc_std')\n",
    "doc_std.cal_exposure_by_min_data(\n",
    "    cal_doc_std,\n",
    "    path=r'D:\\QuantData\\MinuteFreqFactor\\CICC Factor\\Raw Factor'\n",
    ")\n",
    "doc_std.to_parquet(path=r'D:\\QuantData\\MinuteFreqFactor\\CICC Factor\\Raw Factor')"
   ],
   "id": "950128dbc343e620",
   "outputs": [],
   "execution_count": 43
  },
  {
   "metadata": {
    "ExecuteTime": {
     "end_time": "2025-09-02T09:00:15.347548Z",
     "start_time": "2025-09-02T09:00:14.506853Z"
    }
   },
   "cell_type": "code",
   "source": [
    "doc_pdf60 = MinFreqFactor('doc_pdf60')\n",
    "doc_pdf60.cal_exposure_by_min_data(\n",
    "    cal_doc_pdf60,\n",
    "    path=r'D:\\QuantData\\MinuteFreqFactor\\CICC Factor\\Raw Factor'\n",
    ")\n",
    "doc_pdf60.to_parquet(path=r'D:\\QuantData\\MinuteFreqFactor\\CICC Factor\\Raw Factor')"
   ],
   "id": "71928f534e68bf61",
   "outputs": [],
   "execution_count": 44
  },
  {
   "metadata": {
    "ExecuteTime": {
     "end_time": "2025-09-02T09:00:16.180659Z",
     "start_time": "2025-09-02T09:00:15.357991Z"
    }
   },
   "cell_type": "code",
   "source": [
    "doc_pdf70 = MinFreqFactor('doc_pdf70')\n",
    "doc_pdf70.cal_exposure_by_min_data(\n",
    "    cal_doc_pdf70,\n",
    "    path=r'D:\\QuantData\\MinuteFreqFactor\\CICC Factor\\Raw Factor'\n",
    ")\n",
    "doc_pdf70.to_parquet(path=r'D:\\QuantData\\MinuteFreqFactor\\CICC Factor\\Raw Factor')"
   ],
   "id": "4b3ac56432c6b085",
   "outputs": [],
   "execution_count": 45
  },
  {
   "metadata": {
    "ExecuteTime": {
     "end_time": "2025-09-02T09:00:17.020474Z",
     "start_time": "2025-09-02T09:00:16.191126Z"
    }
   },
   "cell_type": "code",
   "source": [
    "doc_pdf80 = MinFreqFactor('doc_pdf80')\n",
    "doc_pdf80.cal_exposure_by_min_data(\n",
    "    cal_doc_pdf80,\n",
    "    path=r'D:\\QuantData\\MinuteFreqFactor\\CICC Factor\\Raw Factor'\n",
    ")\n",
    "doc_pdf80.to_parquet(path=r'D:\\QuantData\\MinuteFreqFactor\\CICC Factor\\Raw Factor')"
   ],
   "id": "45fd34c1a87b1420",
   "outputs": [],
   "execution_count": 46
  },
  {
   "metadata": {
    "ExecuteTime": {
     "end_time": "2025-09-02T09:00:17.847858Z",
     "start_time": "2025-09-02T09:00:17.030527Z"
    }
   },
   "cell_type": "code",
   "source": [
    "doc_pdf90 = MinFreqFactor('doc_pdf90')\n",
    "doc_pdf90.cal_exposure_by_min_data(\n",
    "    cal_doc_pdf90,\n",
    "    path=r'D:\\QuantData\\MinuteFreqFactor\\CICC Factor\\Raw Factor'\n",
    ")\n",
    "doc_pdf90.to_parquet(path=r'D:\\QuantData\\MinuteFreqFactor\\CICC Factor\\Raw Factor')"
   ],
   "id": "973e097a608e30c1",
   "outputs": [],
   "execution_count": 47
  },
  {
   "metadata": {
    "ExecuteTime": {
     "end_time": "2025-09-02T09:00:18.729948Z",
     "start_time": "2025-09-02T09:00:17.876957Z"
    }
   },
   "cell_type": "code",
   "source": [
    "doc_pdf95 = MinFreqFactor('doc_pdf95')\n",
    "doc_pdf95.cal_exposure_by_min_data(\n",
    "    cal_doc_pdf95,\n",
    "    path=r'D:\\QuantData\\MinuteFreqFactor\\CICC Factor\\Raw Factor'\n",
    ")\n",
    "doc_pdf95.to_parquet(path=r'D:\\QuantData\\MinuteFreqFactor\\CICC Factor\\Raw Factor')"
   ],
   "id": "9a06e0e70d38283e",
   "outputs": [],
   "execution_count": 48
  },
  {
   "metadata": {
    "ExecuteTime": {
     "end_time": "2025-09-02T09:00:19.348844Z",
     "start_time": "2025-09-02T09:00:18.746310Z"
    }
   },
   "cell_type": "code",
   "source": [
    "doc_vol10_ratio = MinFreqFactor('doc_vol10_ratio')\n",
    "doc_vol10_ratio.cal_exposure_by_min_data(\n",
    "    cal_doc_vol10_ratio,\n",
    "    path=r'D:\\QuantData\\MinuteFreqFactor\\CICC Factor\\Raw Factor'\n",
    ")\n",
    "doc_vol10_ratio.to_parquet(path=r'D:\\QuantData\\MinuteFreqFactor\\CICC Factor\\Raw Factor')"
   ],
   "id": "747fa938d631b7ed",
   "outputs": [],
   "execution_count": 49
  },
  {
   "metadata": {
    "ExecuteTime": {
     "end_time": "2025-09-02T09:00:19.937857Z",
     "start_time": "2025-09-02T09:00:19.354184Z"
    }
   },
   "cell_type": "code",
   "source": [
    "doc_vol5_ratio = MinFreqFactor('doc_vol5_ratio')\n",
    "doc_vol5_ratio.cal_exposure_by_min_data(\n",
    "    cal_doc_vol5_ratio,\n",
    "    path=r'D:\\QuantData\\MinuteFreqFactor\\CICC Factor\\Raw Factor'\n",
    ")\n",
    "doc_vol5_ratio.to_parquet(path=r'D:\\QuantData\\MinuteFreqFactor\\CICC Factor\\Raw Factor')"
   ],
   "id": "c9e9a1b8abfd3742",
   "outputs": [],
   "execution_count": 50
  },
  {
   "metadata": {
    "ExecuteTime": {
     "end_time": "2025-09-02T09:00:20.518278Z",
     "start_time": "2025-09-02T09:00:19.943352Z"
    }
   },
   "cell_type": "code",
   "source": [
    "doc_vol50_ratio = MinFreqFactor('doc_vol50_ratio')\n",
    "doc_vol50_ratio.cal_exposure_by_min_data(\n",
    "    cal_doc_vol50_ratio,\n",
    "    path=r'D:\\QuantData\\MinuteFreqFactor\\CICC Factor\\Raw Factor'\n",
    ")\n",
    "doc_vol50_ratio.to_parquet(path=r'D:\\QuantData\\MinuteFreqFactor\\CICC Factor\\Raw Factor')"
   ],
   "id": "778cde01584ef3fa",
   "outputs": [],
   "execution_count": 51
  },
  {
   "metadata": {},
   "cell_type": "markdown",
   "source": "资金成交",
   "id": "324d679bdb65c933"
  },
  {
   "metadata": {
    "ExecuteTime": {
     "end_time": "2025-09-02T09:00:21.258894Z",
     "start_time": "2025-09-02T09:00:20.530710Z"
    }
   },
   "cell_type": "code",
   "source": [
    "trade_bottom20retRatio = MinFreqFactor('trade_bottom20retRatio')\n",
    "trade_bottom20retRatio.cal_exposure_by_min_data(\n",
    "    cal_trade_bottom20retRatio,\n",
    "    path=r'D:\\QuantData\\MinuteFreqFactor\\CICC Factor\\Raw Factor'\n",
    ")\n",
    "trade_bottom20retRatio.to_parquet(path=r'D:\\QuantData\\MinuteFreqFactor\\CICC Factor\\Raw Factor')"
   ],
   "id": "76f8410bec83bdf1",
   "outputs": [],
   "execution_count": 52
  },
  {
   "metadata": {
    "ExecuteTime": {
     "end_time": "2025-09-02T09:00:21.988758Z",
     "start_time": "2025-09-02T09:00:21.265231Z"
    }
   },
   "cell_type": "code",
   "source": [
    "trade_bottom50retRatio = MinFreqFactor('trade_bottom50retRatio')\n",
    "trade_bottom50retRatio.cal_exposure_by_min_data(\n",
    "    cal_trade_bottom50retRatio,\n",
    "    path=r'D:\\QuantData\\MinuteFreqFactor\\CICC Factor\\Raw Factor'\n",
    ")\n",
    "trade_bottom50retRatio.to_parquet(path=r'D:\\QuantData\\MinuteFreqFactor\\CICC Factor\\Raw Factor')"
   ],
   "id": "c077909c8eb3f759",
   "outputs": [],
   "execution_count": 53
  },
  {
   "metadata": {
    "ExecuteTime": {
     "end_time": "2025-09-02T09:00:22.601922Z",
     "start_time": "2025-09-02T09:00:21.994617Z"
    }
   },
   "cell_type": "code",
   "source": [
    "trade_headRatio = MinFreqFactor('trade_headRatio')\n",
    "trade_headRatio.cal_exposure_by_min_data(\n",
    "    cal_trade_headRatio,\n",
    "    path=r'D:\\QuantData\\MinuteFreqFactor\\CICC Factor\\Raw Factor'\n",
    ")\n",
    "trade_headRatio.to_parquet(path=r'D:\\QuantData\\MinuteFreqFactor\\CICC Factor\\Raw Factor')"
   ],
   "id": "3a85864143439300",
   "outputs": [],
   "execution_count": 54
  },
  {
   "metadata": {
    "ExecuteTime": {
     "end_time": "2025-09-02T09:00:23.229711Z",
     "start_time": "2025-09-02T09:00:22.610326Z"
    }
   },
   "cell_type": "code",
   "source": [
    "trade_tailRatio = MinFreqFactor('trade_tailRatio')\n",
    "trade_tailRatio.cal_exposure_by_min_data(\n",
    "    cal_trade_tailRatio,\n",
    "    path=r'D:\\QuantData\\MinuteFreqFactor\\CICC Factor\\Raw Factor'\n",
    ")\n",
    "trade_tailRatio.to_parquet(path=r'D:\\QuantData\\MinuteFreqFactor\\CICC Factor\\Raw Factor')"
   ],
   "id": "6fe1ddb8a1699201",
   "outputs": [],
   "execution_count": 55
  },
  {
   "metadata": {
    "ExecuteTime": {
     "end_time": "2025-09-02T09:00:24.039538Z",
     "start_time": "2025-09-02T09:00:23.245246Z"
    }
   },
   "cell_type": "code",
   "source": [
    "trade_top20retRatio = MinFreqFactor('trade_top20retRatio')\n",
    "trade_top20retRatio.cal_exposure_by_min_data(\n",
    "    cal_trade_top20retRatio,\n",
    "    path=r'D:\\QuantData\\MinuteFreqFactor\\CICC Factor\\Raw Factor'\n",
    ")\n",
    "trade_top20retRatio.to_parquet(path=r'D:\\QuantData\\MinuteFreqFactor\\CICC Factor\\Raw Factor')"
   ],
   "id": "5466d3b7b5204190",
   "outputs": [],
   "execution_count": 56
  },
  {
   "metadata": {
    "ExecuteTime": {
     "end_time": "2025-09-02T09:00:24.871515Z",
     "start_time": "2025-09-02T09:00:24.046381Z"
    }
   },
   "cell_type": "code",
   "source": [
    "trade_top50retRatio = MinFreqFactor('trade_top50retRatio')\n",
    "trade_top50retRatio.cal_exposure_by_min_data(\n",
    "    cal_trade_top50retRatio,\n",
    "    path=r'D:\\QuantData\\MinuteFreqFactor\\CICC Factor\\Raw Factor'\n",
    ")\n",
    "trade_top50retRatio.to_parquet(path=r'D:\\QuantData\\MinuteFreqFactor\\CICC Factor\\Raw Factor')"
   ],
   "id": "65342ea7738c168c",
   "outputs": [],
   "execution_count": 57
  },
  {
   "metadata": {
    "ExecuteTime": {
     "end_time": "2025-09-02T09:00:25.657345Z",
     "start_time": "2025-09-02T09:00:24.882173Z"
    }
   },
   "cell_type": "code",
   "source": [
    "trade_topNeg20retRatio = MinFreqFactor('trade_topNeg20retRatio')\n",
    "trade_topNeg20retRatio.cal_exposure_by_min_data(\n",
    "    cal_trade_topNeg20retRatio,\n",
    "    path=r'D:\\QuantData\\MinuteFreqFactor\\CICC Factor\\Raw Factor'\n",
    ")\n",
    "trade_topNeg20retRatio.to_parquet(path=r'D:\\QuantData\\MinuteFreqFactor\\CICC Factor\\Raw Factor')"
   ],
   "id": "d8106f8814ae53d4",
   "outputs": [],
   "execution_count": 58
  },
  {
   "metadata": {
    "ExecuteTime": {
     "end_time": "2025-09-02T09:00:26.445020Z",
     "start_time": "2025-09-02T09:00:25.664270Z"
    }
   },
   "cell_type": "code",
   "source": [
    "trade_topPos20retRatio = MinFreqFactor('trade_topPos20retRatio')\n",
    "trade_topPos20retRatio.cal_exposure_by_min_data(\n",
    "    cal_trade_topPos20retRatio,\n",
    "    path=r'D:\\QuantData\\MinuteFreqFactor\\CICC Factor\\Raw Factor'\n",
    ")\n",
    "trade_topPos20retRatio.to_parquet(path=r'D:\\QuantData\\MinuteFreqFactor\\CICC Factor\\Raw Factor')"
   ],
   "id": "17c5af6047084124",
   "outputs": [],
   "execution_count": 59
  },
  {
   "metadata": {},
   "cell_type": "markdown",
   "source": "因子合成",
   "id": "33cb336712eeaa21"
  },
  {
   "metadata": {
    "ExecuteTime": {
     "end_time": "2025-09-02T09:00:26.455287Z",
     "start_time": "2025-09-02T09:00:26.451630Z"
    }
   },
   "cell_type": "code",
   "source": [
    "raw_factor_list = [\n",
    "    mmt_pm, mmt_last30, mmt_paratio, mmt_am, mmt_between,\n",
    "    mmt_ols_qrs, mmt_ols_corr_square_mean, mmt_ols_corr_mean,\n",
    "    mmt_ols_beta_mean, mmt_ols_beta_zscore_last,\n",
    "    mmt_top50VolumeRet, mmt_bottom50VolumeRet,\n",
    "    mmt_top20VolumeRet, mmt_bottom50VolumeRet,\n",
    "    vol_volume1min, vol_range1min,\n",
    "    vol_upVol, vol_upRatio, vol_downVol, vol_downRatio,\n",
    "    shape_skew, shape_kurt, shape_skratio,\n",
    "    shape_skewVol, shape_kurtVol, shape_skratioVol,\n",
    "    liq_amihud_1min, liq_closeprevol, liq_closevol,  liq_openvol,\n",
    "    liq_firstCallR, liq_lastCallR,\n",
    "    corr_prv, corr_prvr, corr_pv, corr_pvd, corr_pvl, corr_pvr,\n",
    "    doc_kurt, doc_skew, doc_std,\n",
    "    doc_pdf60, doc_pdf70, doc_pdf80, doc_pdf90, doc_pdf95,\n",
    "    doc_vol10_ratio, doc_vol5_ratio, doc_vol50_ratio,\n",
    "    trade_bottom20retRatio, trade_bottom50retRatio,\n",
    "    trade_top20retRatio, trade_top50retRatio,\n",
    "    trade_headRatio, trade_tailRatio,\n",
    "    trade_topPos20retRatio, trade_topNeg20retRatio\n",
    "]"
   ],
   "id": "af9f61e14c7bfa7e",
   "outputs": [],
   "execution_count": 60
  },
  {
   "metadata": {},
   "cell_type": "code",
   "outputs": [],
   "execution_count": null,
   "source": [
    "import os\n",
    "\n",
    "record = []\n",
    "path=r'D:\\QuantData\\MinuteFreqFactor\\CICC Factor\\Final Factor'\n",
    "files_list = os.listdir(path)\n",
    "for f in raw_factor_list:\n",
    "    for d in [5, 20]:\n",
    "        if d == 5:\n",
    "            frequency = 'weekly'\n",
    "        else:\n",
    "            frequency = 'monthly'\n",
    "        for m in ['o', 'm', 'z', 'std']:\n",
    "            factor_name=f'{f.factor_name}_{d}_{m}'\n",
    "            if factor_name == 'mmt_ols_qrs_5_o':\n",
    "                # 这个因子会在polars的rust层面报错且无法被try-except捕获，这里跳过它\n",
    "                continue\n",
    "            new_f = MinFreqFactor(\n",
    "                factor_name=factor_name,\n",
    "                factor_exposure=pl.read_parquet(\n",
    "                    os.path.join(path, f'{factor_name}.parquet')\n",
    "                )\n",
    "            )\n",
    "            print(f'{new_f.factor_name}')\n",
    "            new_f.coverage()\n",
    "            new_f.ic_test()\n",
    "            new_f.group_test(frequency=frequency, weight_param='tmc')\n",
    "            record.append(\n",
    "                (\n",
    "                    new_f.factor_name,\n",
    "                    new_f.IC, new_f.ICIR, new_f.rank_IC, new_f.rank_ICIR\n",
    "                )\n",
    "            )\n",
    "            new_f.to_parquet()"
   ],
   "id": "853d34bf8cbab22b"
  },
  {
   "metadata": {},
   "cell_type": "code",
   "outputs": [],
   "execution_count": null,
   "source": [
    "factor_info = pl.from_records(record, schema={\n",
    "    'factor_name': pl.String,\n",
    "    'IC': pl.Float64,\n",
    "    'ICIR': pl.Float64,\n",
    "    'rank_IC': pl.Float64,\n",
    "    'rank_ICIR': pl.Float64\n",
    "}, orient=\"row\").with_columns(\n",
    "    pl.col('factor_name')\n",
    "    .str.split('_')\n",
    "    .list.first()\n",
    "    .alias('factor_type')\n",
    ").select(\n",
    "    pl.col('factor_type'),\n",
    "    pl.col('factor_name'),\n",
    "    pl.col('IC').abs(),\n",
    "    pl.col('ICIR').abs(),\n",
    "    pl.col('rank_IC').abs(),\n",
    "    pl.col('rank_ICIR').abs()\n",
    ")"
   ],
   "id": "ae97ab06cbe443ce"
  },
  {
   "metadata": {
    "ExecuteTime": {
     "end_time": "2025-09-02T09:01:16.956480800Z",
     "start_time": "2025-09-01T07:53:08.246246Z"
    }
   },
   "cell_type": "code",
   "source": "factor_info",
   "id": "93fda97d292a4ae2",
   "outputs": [
    {
     "data": {
      "text/plain": [
       "shape: (455, 6)\n",
       "┌─────────────┬───────────────────────────────┬──────────┬──────────┬──────────┬───────────┐\n",
       "│ factor_type ┆ factor_name                   ┆ IC       ┆ ICIR     ┆ rank_IC  ┆ rank_ICIR │\n",
       "│ ---         ┆ ---                           ┆ ---      ┆ ---      ┆ ---      ┆ ---       │\n",
       "│ str         ┆ str                           ┆ f64      ┆ f64      ┆ f64      ┆ f64       │\n",
       "╞═════════════╪═══════════════════════════════╪══════════╪══════════╪══════════╪═══════════╡\n",
       "│ mmt         ┆ mmt_pm_5_o                    ┆ 0.035972 ┆ 0.435049 ┆ 0.036617 ┆ 0.348132  │\n",
       "│ mmt         ┆ mmt_pm_5_m                    ┆ 0.047453 ┆ 0.565347 ┆ 0.048012 ┆ 0.471156  │\n",
       "│ mmt         ┆ mmt_pm_5_z                    ┆ 0.017156 ┆ 0.247981 ┆ 0.020094 ┆ 0.248191  │\n",
       "│ mmt         ┆ mmt_pm_5_std                  ┆ 0.042974 ┆ 0.402571 ┆ 0.057759 ┆ 0.441723  │\n",
       "│ mmt         ┆ mmt_pm_20_o                   ┆ 0.035972 ┆ 0.435049 ┆ 0.036617 ┆ 0.348132  │\n",
       "│ …           ┆ …                             ┆ …        ┆ …        ┆ …        ┆ …         │\n",
       "│ trade       ┆ trade_topNeg20retRatio_5_std  ┆ 0.002121 ┆ 0.047736 ┆ 0.01525  ┆ 0.172521  │\n",
       "│ trade       ┆ trade_topNeg20retRatio_20_o   ┆ 0.011711 ┆ 0.239803 ┆ 0.03316  ┆ 0.376086  │\n",
       "│ trade       ┆ trade_topNeg20retRatio_20_m   ┆ 0.00755  ┆ 0.078093 ┆ 0.036849 ┆ 0.258609  │\n",
       "│ trade       ┆ trade_topNeg20retRatio_20_z   ┆ 0.009805 ┆ 0.148693 ┆ 0.010282 ┆ 0.145272  │\n",
       "│ trade       ┆ trade_topNeg20retRatio_20_std ┆ 0.000354 ┆ 0.005876 ┆ 0.022439 ┆ 0.193276  │\n",
       "└─────────────┴───────────────────────────────┴──────────┴──────────┴──────────┴───────────┘"
      ],
      "text/html": [
       "<div><style>\n",
       ".dataframe > thead > tr,\n",
       ".dataframe > tbody > tr {\n",
       "  text-align: right;\n",
       "  white-space: pre-wrap;\n",
       "}\n",
       "</style>\n",
       "<small>shape: (455, 6)</small><table border=\"1\" class=\"dataframe\"><thead><tr><th>factor_type</th><th>factor_name</th><th>IC</th><th>ICIR</th><th>rank_IC</th><th>rank_ICIR</th></tr><tr><td>str</td><td>str</td><td>f64</td><td>f64</td><td>f64</td><td>f64</td></tr></thead><tbody><tr><td>&quot;mmt&quot;</td><td>&quot;mmt_pm_5_o&quot;</td><td>0.035972</td><td>0.435049</td><td>0.036617</td><td>0.348132</td></tr><tr><td>&quot;mmt&quot;</td><td>&quot;mmt_pm_5_m&quot;</td><td>0.047453</td><td>0.565347</td><td>0.048012</td><td>0.471156</td></tr><tr><td>&quot;mmt&quot;</td><td>&quot;mmt_pm_5_z&quot;</td><td>0.017156</td><td>0.247981</td><td>0.020094</td><td>0.248191</td></tr><tr><td>&quot;mmt&quot;</td><td>&quot;mmt_pm_5_std&quot;</td><td>0.042974</td><td>0.402571</td><td>0.057759</td><td>0.441723</td></tr><tr><td>&quot;mmt&quot;</td><td>&quot;mmt_pm_20_o&quot;</td><td>0.035972</td><td>0.435049</td><td>0.036617</td><td>0.348132</td></tr><tr><td>&hellip;</td><td>&hellip;</td><td>&hellip;</td><td>&hellip;</td><td>&hellip;</td><td>&hellip;</td></tr><tr><td>&quot;trade&quot;</td><td>&quot;trade_topNeg20retRatio_5_std&quot;</td><td>0.002121</td><td>0.047736</td><td>0.01525</td><td>0.172521</td></tr><tr><td>&quot;trade&quot;</td><td>&quot;trade_topNeg20retRatio_20_o&quot;</td><td>0.011711</td><td>0.239803</td><td>0.03316</td><td>0.376086</td></tr><tr><td>&quot;trade&quot;</td><td>&quot;trade_topNeg20retRatio_20_m&quot;</td><td>0.00755</td><td>0.078093</td><td>0.036849</td><td>0.258609</td></tr><tr><td>&quot;trade&quot;</td><td>&quot;trade_topNeg20retRatio_20_z&quot;</td><td>0.009805</td><td>0.148693</td><td>0.010282</td><td>0.145272</td></tr><tr><td>&quot;trade&quot;</td><td>&quot;trade_topNeg20retRatio_20_std&quot;</td><td>0.000354</td><td>0.005876</td><td>0.022439</td><td>0.193276</td></tr></tbody></table></div>"
      ]
     },
     "execution_count": 63,
     "metadata": {},
     "output_type": "execute_result"
    }
   ],
   "execution_count": 63
  }
 ],
 "metadata": {
  "kernelspec": {
   "display_name": "Python 3",
   "language": "python",
   "name": "python3"
  },
  "language_info": {
   "codemirror_mode": {
    "name": "ipython",
    "version": 2
   },
   "file_extension": ".py",
   "mimetype": "text/x-python",
   "name": "python",
   "nbconvert_exporter": "python",
   "pygments_lexer": "ipython2",
   "version": "2.7.6"
  }
 },
 "nbformat": 4,
 "nbformat_minor": 5
}
