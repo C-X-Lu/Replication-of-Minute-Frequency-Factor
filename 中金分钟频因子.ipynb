{
 "cells": [
  {
   "metadata": {
    "ExecuteTime": {
     "end_time": "2025-09-01T07:17:12.954857Z",
     "start_time": "2025-09-01T07:17:09.532963Z"
    }
   },
   "cell_type": "code",
   "source": [
    "from EasyFactorPl import *\n",
    "from CalculateMethodsPl import *\n",
    "from tqdm import tqdm"
   ],
   "id": "26e3b4d68d32d097",
   "outputs": [],
   "execution_count": 1
  },
  {
   "metadata": {},
   "cell_type": "markdown",
   "source": "动量反转",
   "id": "bb3ef5c3fac543e6"
  },
  {
   "metadata": {
    "ExecuteTime": {
     "end_time": "2025-09-01T07:17:13.797606Z",
     "start_time": "2025-09-01T07:17:12.962145Z"
    }
   },
   "cell_type": "code",
   "source": [
    "mmt_pm = Factor('mmt_pm')\n",
    "mmt_pm.cal_exposure_by_min_data(\n",
    "    cal_mmt_pm,\n",
    "    path=r'D:\\QuantData\\MinuteFreqFactor\\CICC Factor\\Raw Factor'\n",
    ")\n",
    "mmt_pm.to_parquet(path=r'D:\\QuantData\\MinuteFreqFactor\\CICC Factor\\Raw Factor')"
   ],
   "id": "d143a1f8459233d2",
   "outputs": [],
   "execution_count": 2
  },
  {
   "metadata": {
    "ExecuteTime": {
     "end_time": "2025-09-01T07:17:14.659154Z",
     "start_time": "2025-09-01T07:17:13.864652Z"
    }
   },
   "cell_type": "code",
   "source": [
    "mmt_last30 = Factor('mmt_last30')\n",
    "mmt_last30.cal_exposure_by_min_data(\n",
    "    cal_mmt_last30,\n",
    "    path=r'D:\\QuantData\\MinuteFreqFactor\\CICC Factor\\Raw Factor'\n",
    ")\n",
    "mmt_last30.to_parquet(\n",
    "    path=r'D:\\QuantData\\MinuteFreqFactor\\CICC Factor\\Raw Factor'\n",
    ")"
   ],
   "id": "26b7b239d21949f2",
   "outputs": [],
   "execution_count": 3
  },
  {
   "metadata": {
    "ExecuteTime": {
     "end_time": "2025-09-01T07:17:15.404128Z",
     "start_time": "2025-09-01T07:17:14.668021Z"
    }
   },
   "cell_type": "code",
   "source": [
    "mmt_paratio = Factor('mmt_paratio')\n",
    "mmt_paratio.cal_exposure_by_min_data(\n",
    "    cal_mmt_paratio,\n",
    "    path=r'D:\\QuantData\\MinuteFreqFactor\\CICC Factor\\Raw Factor'\n",
    ")\n",
    "mmt_paratio.to_parquet(\n",
    "    path=r'D:\\QuantData\\MinuteFreqFactor\\CICC Factor\\Raw Factor'\n",
    ")"
   ],
   "id": "f38f17124d34270d",
   "outputs": [],
   "execution_count": 4
  },
  {
   "metadata": {
    "ExecuteTime": {
     "end_time": "2025-09-01T07:17:16.242101Z",
     "start_time": "2025-09-01T07:17:15.410075Z"
    }
   },
   "cell_type": "code",
   "source": [
    "mmt_am = Factor('mmt_am')\n",
    "mmt_am.cal_exposure_by_min_data(\n",
    "    cal_mmt_am,\n",
    "    path=r'D:\\QuantData\\MinuteFreqFactor\\CICC Factor\\Raw Factor'\n",
    ")\n",
    "mmt_am.to_parquet(path=r'D:\\QuantData\\MinuteFreqFactor\\CICC Factor\\Raw Factor')"
   ],
   "id": "e2739514b97df4cb",
   "outputs": [],
   "execution_count": 5
  },
  {
   "metadata": {
    "ExecuteTime": {
     "end_time": "2025-09-01T07:17:17.053133Z",
     "start_time": "2025-09-01T07:17:16.252479Z"
    }
   },
   "cell_type": "code",
   "source": [
    "mmt_between = Factor('mmt_between')\n",
    "mmt_between.cal_exposure_by_min_data(\n",
    "    cal_mmt_between,\n",
    "    path=r'D:\\QuantData\\MinuteFreqFactor\\CICC Factor\\Raw Factor'\n",
    ")\n",
    "mmt_between.to_parquet(path=r'D:\\QuantData\\MinuteFreqFactor\\CICC Factor\\Raw Factor')"
   ],
   "id": "d56a6369221961c6",
   "outputs": [],
   "execution_count": 6
  },
  {
   "metadata": {
    "ExecuteTime": {
     "end_time": "2025-09-01T07:17:17.788322Z",
     "start_time": "2025-09-01T07:17:17.058118Z"
    }
   },
   "cell_type": "code",
   "source": [
    "mmt_ols_qrs = Factor('mmt_ols_qrs')\n",
    "mmt_ols_qrs.cal_exposure_by_min_data(\n",
    "    cal_mmt_ols_qrs,\n",
    "    path=r'D:\\QuantData\\MinuteFreqFactor\\CICC Factor\\Raw Factor'\n",
    ")\n",
    "mmt_ols_qrs.to_parquet(path=r'D:\\QuantData\\MinuteFreqFactor\\CICC Factor\\Raw Factor')"
   ],
   "id": "3425ca72be1fef9",
   "outputs": [],
   "execution_count": 7
  },
  {
   "metadata": {
    "ExecuteTime": {
     "end_time": "2025-09-01T07:17:18.432298Z",
     "start_time": "2025-09-01T07:17:17.793511Z"
    }
   },
   "cell_type": "code",
   "source": [
    "mmt_ols_corr_square_mean = Factor('mmt_ols_corr_square_mean')\n",
    "mmt_ols_corr_square_mean.cal_exposure_by_min_data(\n",
    "    cal_mmt_ols_corr_square_mean,\n",
    "    path=r'D:\\QuantData\\MinuteFreqFactor\\CICC Factor\\Raw Factor'\n",
    ")\n",
    "mmt_ols_corr_square_mean.to_parquet(path=r'D:\\QuantData\\MinuteFreqFactor\\CICC Factor\\Raw Factor')"
   ],
   "id": "469ba867eb656ed2",
   "outputs": [],
   "execution_count": 8
  },
  {
   "metadata": {
    "ExecuteTime": {
     "end_time": "2025-09-01T07:17:19.026010Z",
     "start_time": "2025-09-01T07:17:18.437532Z"
    }
   },
   "cell_type": "code",
   "source": [
    "mmt_ols_corr_mean = Factor('mmt_ols_corr_mean')\n",
    "mmt_ols_corr_mean.cal_exposure_by_min_data(\n",
    "    cal_mmt_ols_corr_mean,\n",
    "    path=r'D:\\QuantData\\MinuteFreqFactor\\CICC Factor\\Raw Factor'\n",
    ")\n",
    "mmt_ols_corr_mean.to_parquet(path=r'D:\\QuantData\\MinuteFreqFactor\\CICC Factor\\Raw Factor')"
   ],
   "id": "17917c9ac0563f93",
   "outputs": [],
   "execution_count": 9
  },
  {
   "metadata": {
    "ExecuteTime": {
     "end_time": "2025-09-01T07:17:19.615271Z",
     "start_time": "2025-09-01T07:17:19.031204Z"
    }
   },
   "cell_type": "code",
   "source": [
    "mmt_ols_beta_mean = Factor('mmt_ols_beta_mean')\n",
    "mmt_ols_beta_mean.cal_exposure_by_min_data(\n",
    "    cal_mmt_ols_beta_mean,\n",
    "    path=r'D:\\QuantData\\MinuteFreqFactor\\CICC Factor\\Raw Factor'\n",
    ")\n",
    "mmt_ols_beta_mean.to_parquet(path=r'D:\\QuantData\\MinuteFreqFactor\\CICC Factor\\Raw Factor')"
   ],
   "id": "4ce8c956887df3d4",
   "outputs": [],
   "execution_count": 10
  },
  {
   "metadata": {
    "ExecuteTime": {
     "end_time": "2025-09-01T07:17:20.206187Z",
     "start_time": "2025-09-01T07:17:19.620711Z"
    }
   },
   "cell_type": "code",
   "source": [
    "mmt_ols_beta_zscore_last = Factor('mmt_ols_beta_zscore_last')\n",
    "mmt_ols_beta_zscore_last.cal_exposure_by_min_data(\n",
    "    cal_mmt_ols_beta_zscore_last,\n",
    "    path=r'D:\\QuantData\\MinuteFreqFactor\\CICC Factor\\Raw Factor'\n",
    ")\n",
    "mmt_ols_beta_zscore_last.to_parquet(path=r'D:\\QuantData\\MinuteFreqFactor\\CICC Factor\\Raw Factor')"
   ],
   "id": "7c57a9515fccefb3",
   "outputs": [],
   "execution_count": 11
  },
  {
   "metadata": {
    "ExecuteTime": {
     "end_time": "2025-09-01T07:17:20.788774Z",
     "start_time": "2025-09-01T07:17:20.210587Z"
    }
   },
   "cell_type": "code",
   "source": [
    "mmt_top50VolumeRet = Factor('mmt_top50VolumeRet')\n",
    "mmt_top50VolumeRet.cal_exposure_by_min_data(\n",
    "    cal_mmt_top50VolumeRet,\n",
    "    path=r'D:\\QuantData\\MinuteFreqFactor\\CICC Factor\\Raw Factor'\n",
    ")\n",
    "mmt_top50VolumeRet.to_parquet(path=r'D:\\QuantData\\MinuteFreqFactor\\CICC Factor\\Raw Factor')"
   ],
   "id": "b1e677aba7090790",
   "outputs": [],
   "execution_count": 12
  },
  {
   "metadata": {
    "ExecuteTime": {
     "end_time": "2025-09-01T07:17:21.571904Z",
     "start_time": "2025-09-01T07:17:20.793757Z"
    }
   },
   "cell_type": "code",
   "source": [
    "mmt_bottom50VolumeRet = Factor('mmt_bottom50VolumeRet')\n",
    "mmt_bottom50VolumeRet.cal_exposure_by_min_data(\n",
    "    cal_mmt_bottom50VolumeRet,\n",
    "    path=r'D:\\QuantData\\MinuteFreqFactor\\CICC Factor\\Raw Factor'\n",
    ")\n",
    "mmt_bottom50VolumeRet.to_parquet(path=r'D:\\QuantData\\MinuteFreqFactor\\CICC Factor\\Raw Factor')"
   ],
   "id": "3047d11cc5d2d0ea",
   "outputs": [],
   "execution_count": 13
  },
  {
   "metadata": {
    "ExecuteTime": {
     "end_time": "2025-09-01T07:17:22.188441Z",
     "start_time": "2025-09-01T07:17:21.578115Z"
    }
   },
   "cell_type": "code",
   "source": [
    "mmt_top20VolumeRet = Factor('mmt_top20VolumeRet')\n",
    "mmt_top20VolumeRet.cal_exposure_by_min_data(\n",
    "    cal_mmt_top20VolumeRet,\n",
    "    path=r'D:\\QuantData\\MinuteFreqFactor\\CICC Factor\\Raw Factor'\n",
    ")\n",
    "mmt_top20VolumeRet.to_parquet(path=r'D:\\QuantData\\MinuteFreqFactor\\CICC Factor\\Raw Factor')"
   ],
   "id": "8130c91bdea1ff7",
   "outputs": [],
   "execution_count": 14
  },
  {
   "metadata": {
    "ExecuteTime": {
     "end_time": "2025-09-01T07:17:22.979551Z",
     "start_time": "2025-09-01T07:17:22.193719Z"
    }
   },
   "cell_type": "code",
   "source": [
    "mmt_bottom20VolumeRet = Factor('mmt_bottom20VolumeRet')\n",
    "mmt_bottom20VolumeRet.cal_exposure_by_min_data(\n",
    "    cal_mmt_bottom20VolumeRet,\n",
    "    path=r'D:\\QuantData\\MinuteFreqFactor\\CICC Factor\\Raw Factor'\n",
    ")\n",
    "mmt_bottom20VolumeRet.to_parquet(path=r'D:\\QuantData\\MinuteFreqFactor\\CICC Factor\\Raw Factor')"
   ],
   "id": "5cb6bfed2d7dac85",
   "outputs": [],
   "execution_count": 15
  },
  {
   "metadata": {},
   "cell_type": "markdown",
   "source": "波动率",
   "id": "3c05fe8f62def4d5"
  },
  {
   "metadata": {
    "ExecuteTime": {
     "end_time": "2025-09-01T07:17:23.558154Z",
     "start_time": "2025-09-01T07:17:22.984498Z"
    }
   },
   "cell_type": "code",
   "source": [
    "vol_volume1min = Factor('vol_volume1min')\n",
    "vol_volume1min.cal_exposure_by_min_data(\n",
    "    cal_vol_volume1min,\n",
    "    path=r'D:\\QuantData\\MinuteFreqFactor\\CICC Factor\\Raw Factor'\n",
    ")\n",
    "vol_volume1min.to_parquet(path=r'D:\\QuantData\\MinuteFreqFactor\\CICC Factor\\Raw Factor')"
   ],
   "id": "fc3bcec40cc15fe3",
   "outputs": [],
   "execution_count": 16
  },
  {
   "metadata": {
    "ExecuteTime": {
     "end_time": "2025-09-01T07:17:24.148911Z",
     "start_time": "2025-09-01T07:17:23.563648Z"
    }
   },
   "cell_type": "code",
   "source": [
    "vol_range1min = Factor('vol_range1min')\n",
    "vol_range1min.cal_exposure_by_min_data(\n",
    "    cal_vol_range1min,\n",
    "    path=r'D:\\QuantData\\MinuteFreqFactor\\CICC Factor\\Raw Factor'\n",
    ")\n",
    "vol_range1min.to_parquet(path=r'D:\\QuantData\\MinuteFreqFactor\\CICC Factor\\Raw Factor')"
   ],
   "id": "3e0501f4c5de5a52",
   "outputs": [],
   "execution_count": 17
  },
  {
   "metadata": {
    "ExecuteTime": {
     "end_time": "2025-09-01T07:17:24.735352Z",
     "start_time": "2025-09-01T07:17:24.153847Z"
    }
   },
   "cell_type": "code",
   "source": [
    "vol_return1min = Factor('vol_return1min')\n",
    "vol_return1min.cal_exposure_by_min_data(\n",
    "    cal_vol_return1min,\n",
    "    path=r'D:\\QuantData\\MinuteFreqFactor\\CICC Factor\\Raw Factor'\n",
    ")\n",
    "vol_return1min.to_parquet(path=r'D:\\QuantData\\MinuteFreqFactor\\CICC Factor\\Raw Factor')"
   ],
   "id": "673295408aee72e3",
   "outputs": [],
   "execution_count": 18
  },
  {
   "metadata": {
    "ExecuteTime": {
     "end_time": "2025-09-01T07:17:25.327468Z",
     "start_time": "2025-09-01T07:17:24.740182Z"
    }
   },
   "cell_type": "code",
   "source": [
    "vol_upVol = Factor('vol_upVol')\n",
    "vol_upVol.cal_exposure_by_min_data(\n",
    "    cal_vol_upVol,\n",
    "    path=r'D:\\QuantData\\MinuteFreqFactor\\CICC Factor\\Raw Factor'\n",
    ")\n",
    "vol_upVol.to_parquet(path=r'D:\\QuantData\\MinuteFreqFactor\\CICC Factor\\Raw Factor')"
   ],
   "id": "bffc1da19039bc4d",
   "outputs": [],
   "execution_count": 19
  },
  {
   "metadata": {
    "ExecuteTime": {
     "end_time": "2025-09-01T07:17:25.920385Z",
     "start_time": "2025-09-01T07:17:25.332028Z"
    }
   },
   "cell_type": "code",
   "source": [
    "vol_upRatio = Factor('vol_upRatio')\n",
    "vol_upRatio.cal_exposure_by_min_data(\n",
    "    cal_vol_upRatio,\n",
    "    path=r'D:\\QuantData\\MinuteFreqFactor\\CICC Factor\\Raw Factor'\n",
    ")\n",
    "vol_upRatio.to_parquet(path=r'D:\\QuantData\\MinuteFreqFactor\\CICC Factor\\Raw Factor')"
   ],
   "id": "d2447d8c1a396dad",
   "outputs": [],
   "execution_count": 20
  },
  {
   "metadata": {
    "ExecuteTime": {
     "end_time": "2025-09-01T07:17:26.519724Z",
     "start_time": "2025-09-01T07:17:25.925290Z"
    }
   },
   "cell_type": "code",
   "source": [
    "vol_downVol = Factor('vol_downVol')\n",
    "vol_downVol.cal_exposure_by_min_data(\n",
    "    cal_vol_downVol,\n",
    "    path=r'D:\\QuantData\\MinuteFreqFactor\\CICC Factor\\Raw Factor'\n",
    ")\n",
    "vol_downVol.to_parquet(path=r'D:\\QuantData\\MinuteFreqFactor\\CICC Factor\\Raw Factor')"
   ],
   "id": "a7b70da9cf023c0e",
   "outputs": [],
   "execution_count": 21
  },
  {
   "metadata": {
    "ExecuteTime": {
     "end_time": "2025-09-01T07:17:27.137623Z",
     "start_time": "2025-09-01T07:17:26.524523Z"
    }
   },
   "cell_type": "code",
   "source": [
    "vol_downRatio = Factor('vol_downRatio')\n",
    "vol_downRatio.cal_exposure_by_min_data(\n",
    "    cal_vol_downRatio,\n",
    "    path=r'D:\\QuantData\\MinuteFreqFactor\\CICC Factor\\Raw Factor'\n",
    ")\n",
    "vol_downRatio.to_parquet(path=r'D:\\QuantData\\MinuteFreqFactor\\CICC Factor\\Raw Factor')"
   ],
   "id": "34904cf072ebda07",
   "outputs": [],
   "execution_count": 22
  },
  {
   "metadata": {},
   "cell_type": "markdown",
   "source": "高阶特征",
   "id": "ec7a780d37a2524a"
  },
  {
   "metadata": {
    "ExecuteTime": {
     "end_time": "2025-09-01T07:17:27.806343Z",
     "start_time": "2025-09-01T07:17:27.142453Z"
    }
   },
   "cell_type": "code",
   "source": [
    "shape_skew = Factor('shape_skew')\n",
    "shape_skew.cal_exposure_by_min_data(\n",
    "    cal_shape_skew,\n",
    "    path=r'D:\\QuantData\\MinuteFreqFactor\\CICC Factor\\Raw Factor'\n",
    ")\n",
    "shape_skew.to_parquet(path=r'D:\\QuantData\\MinuteFreqFactor\\CICC Factor\\Raw Factor')"
   ],
   "id": "71d622a000470e64",
   "outputs": [],
   "execution_count": 23
  },
  {
   "metadata": {
    "ExecuteTime": {
     "end_time": "2025-09-01T07:17:28.407991Z",
     "start_time": "2025-09-01T07:17:27.812512Z"
    }
   },
   "cell_type": "code",
   "source": [
    "shape_kurt = Factor('shape_kurt')\n",
    "shape_kurt.cal_exposure_by_min_data(\n",
    "    cal_shape_kurt,\n",
    "    path=r'D:\\QuantData\\MinuteFreqFactor\\CICC Factor\\Raw Factor'\n",
    ")\n",
    "shape_kurt.to_parquet(path=r'D:\\QuantData\\MinuteFreqFactor\\CICC Factor\\Raw Factor')"
   ],
   "id": "5d4b09cebcd13d02",
   "outputs": [],
   "execution_count": 24
  },
  {
   "metadata": {
    "ExecuteTime": {
     "end_time": "2025-09-01T07:17:28.993633Z",
     "start_time": "2025-09-01T07:17:28.413349Z"
    }
   },
   "cell_type": "code",
   "source": [
    "shape_skratio = Factor('shape_skratio')\n",
    "shape_skratio.cal_exposure_by_min_data(\n",
    "    cal_shape_skratio,\n",
    "    path=r'D:\\QuantData\\MinuteFreqFactor\\CICC Factor\\Raw Factor'\n",
    ")\n",
    "shape_skratio.to_parquet(path=r'D:\\QuantData\\MinuteFreqFactor\\CICC Factor\\Raw Factor')"
   ],
   "id": "86565b132f446e9f",
   "outputs": [],
   "execution_count": 25
  },
  {
   "metadata": {
    "ExecuteTime": {
     "end_time": "2025-09-01T07:17:29.558695Z",
     "start_time": "2025-09-01T07:17:28.999031Z"
    }
   },
   "cell_type": "code",
   "source": [
    "shape_skewVol = Factor('shape_skewVol')\n",
    "shape_skewVol.cal_exposure_by_min_data(\n",
    "    cal_shape_skewVol,\n",
    "    path=r'D:\\QuantData\\MinuteFreqFactor\\CICC Factor\\Raw Factor'\n",
    ")\n",
    "shape_skewVol.to_parquet(path=r'D:\\QuantData\\MinuteFreqFactor\\CICC Factor\\Raw Factor')"
   ],
   "id": "748e0a0d7fc4bad9",
   "outputs": [],
   "execution_count": 26
  },
  {
   "metadata": {
    "ExecuteTime": {
     "end_time": "2025-09-01T07:17:30.122447Z",
     "start_time": "2025-09-01T07:17:29.564256Z"
    }
   },
   "cell_type": "code",
   "source": [
    "shape_kurtVol = Factor('shape_kurtVol')\n",
    "shape_kurtVol.cal_exposure_by_min_data(\n",
    "    cal_shape_kurtVol,\n",
    "    path=r'D:\\QuantData\\MinuteFreqFactor\\CICC Factor\\Raw Factor'\n",
    ")\n",
    "shape_kurtVol.to_parquet(path=r'D:\\QuantData\\MinuteFreqFactor\\CICC Factor\\Raw Factor')"
   ],
   "id": "ce437b5b41f8f5cb",
   "outputs": [],
   "execution_count": 27
  },
  {
   "metadata": {
    "ExecuteTime": {
     "end_time": "2025-09-01T07:17:30.683047Z",
     "start_time": "2025-09-01T07:17:30.128686Z"
    }
   },
   "cell_type": "code",
   "source": [
    "shape_skratioVol = Factor('shape_skratioVol')\n",
    "shape_skratioVol.cal_exposure_by_min_data(\n",
    "    cal_shape_skratioVol,\n",
    "    path=r'D:\\QuantData\\MinuteFreqFactor\\CICC Factor\\Raw Factor'\n",
    ")\n",
    "shape_skratioVol.to_parquet(path=r'D:\\QuantData\\MinuteFreqFactor\\CICC Factor\\Raw Factor')"
   ],
   "id": "4c2ad10e994c4791",
   "outputs": [],
   "execution_count": 28
  },
  {
   "metadata": {},
   "cell_type": "markdown",
   "source": "流动性",
   "id": "bd35d7eae2b41ce6"
  },
  {
   "metadata": {
    "ExecuteTime": {
     "end_time": "2025-09-01T07:17:31.294990Z",
     "start_time": "2025-09-01T07:17:30.690205Z"
    }
   },
   "cell_type": "code",
   "source": [
    "liq_amihud_1min = Factor('liq_amihud_1min')\n",
    "liq_amihud_1min.cal_exposure_by_min_data(\n",
    "    cal_liq_amihud_1min,\n",
    "    path=r'D:\\QuantData\\MinuteFreqFactor\\CICC Factor\\Raw Factor'\n",
    ")\n",
    "liq_amihud_1min.to_parquet(path=r'D:\\QuantData\\MinuteFreqFactor\\CICC Factor\\Raw Factor')"
   ],
   "id": "b0ee6365df9c65f4",
   "outputs": [],
   "execution_count": 29
  },
  {
   "metadata": {
    "ExecuteTime": {
     "end_time": "2025-09-01T07:17:32.068663Z",
     "start_time": "2025-09-01T07:17:31.299815Z"
    }
   },
   "cell_type": "code",
   "source": [
    "liq_closeprevol = Factor('liq_closeprevol')\n",
    "liq_closeprevol.cal_exposure_by_min_data(\n",
    "    cal_liq_closeprevol,\n",
    "    path=r'D:\\QuantData\\MinuteFreqFactor\\CICC Factor\\Raw Factor'\n",
    ")\n",
    "liq_closeprevol.to_parquet(path=r'D:\\QuantData\\MinuteFreqFactor\\CICC Factor\\Raw Factor')"
   ],
   "id": "e5088a180c44ed51",
   "outputs": [],
   "execution_count": 30
  },
  {
   "metadata": {
    "ExecuteTime": {
     "end_time": "2025-09-01T07:17:32.833936Z",
     "start_time": "2025-09-01T07:17:32.074108Z"
    }
   },
   "cell_type": "code",
   "source": [
    "liq_closevol = Factor('liq_closevol')\n",
    "liq_closevol.cal_exposure_by_min_data(\n",
    "    cal_liq_closevol,\n",
    "    path=r'D:\\QuantData\\MinuteFreqFactor\\CICC Factor\\Raw Factor'\n",
    ")\n",
    "liq_closevol.to_parquet(path=r'D:\\QuantData\\MinuteFreqFactor\\CICC Factor\\Raw Factor')"
   ],
   "id": "a69f50bd287bf507",
   "outputs": [],
   "execution_count": 31
  },
  {
   "metadata": {
    "ExecuteTime": {
     "end_time": "2025-09-01T07:17:33.421682Z",
     "start_time": "2025-09-01T07:17:32.840082Z"
    }
   },
   "cell_type": "code",
   "source": [
    "liq_firstCallR = Factor('liq_firstCallR')\n",
    "liq_firstCallR.cal_exposure_by_min_data(\n",
    "    cal_liq_firstCallR,\n",
    "    path=r'D:\\QuantData\\MinuteFreqFactor\\CICC Factor\\Raw Factor'\n",
    ")\n",
    "liq_firstCallR.to_parquet(path=r'D:\\QuantData\\MinuteFreqFactor\\CICC Factor\\Raw Factor')"
   ],
   "id": "c86e4db496a4076a",
   "outputs": [],
   "execution_count": 32
  },
  {
   "metadata": {
    "ExecuteTime": {
     "end_time": "2025-09-01T07:17:33.997509Z",
     "start_time": "2025-09-01T07:17:33.426474Z"
    }
   },
   "cell_type": "code",
   "source": [
    "liq_lastCallR = Factor('liq_lastCallR')\n",
    "liq_lastCallR.cal_exposure_by_min_data(\n",
    "    cal_liq_lastCallR,\n",
    "    path=r'D:\\QuantData\\MinuteFreqFactor\\CICC Factor\\Raw Factor'\n",
    ")\n",
    "liq_lastCallR.to_parquet(path=r'D:\\QuantData\\MinuteFreqFactor\\CICC Factor\\Raw Factor')"
   ],
   "id": "ce91a2cbc94a13e1",
   "outputs": [],
   "execution_count": 33
  },
  {
   "metadata": {
    "ExecuteTime": {
     "end_time": "2025-09-01T07:17:34.765951Z",
     "start_time": "2025-09-01T07:17:34.002909Z"
    }
   },
   "cell_type": "code",
   "source": [
    "liq_openvol = Factor('liq_openvol')\n",
    "liq_openvol.cal_exposure_by_min_data(\n",
    "    cal_liq_openvol,\n",
    "    path=r'D:\\QuantData\\MinuteFreqFactor\\CICC Factor\\Raw Factor'\n",
    ")\n",
    "liq_openvol.to_parquet(path=r'D:\\QuantData\\MinuteFreqFactor\\CICC Factor\\Raw Factor')"
   ],
   "id": "ea7340c499f1d7a9",
   "outputs": [],
   "execution_count": 34
  },
  {
   "metadata": {},
   "cell_type": "markdown",
   "source": "量价相关性",
   "id": "cf5931e22bcae303"
  },
  {
   "metadata": {
    "ExecuteTime": {
     "end_time": "2025-09-01T07:17:35.361151Z",
     "start_time": "2025-09-01T07:17:34.771290Z"
    }
   },
   "cell_type": "code",
   "source": [
    "corr_prv = Factor('corr_prv')\n",
    "corr_prv.cal_exposure_by_min_data(\n",
    "    cal_corr_prv,\n",
    "    path=r'D:\\QuantData\\MinuteFreqFactor\\CICC Factor\\Raw Factor'\n",
    ")\n",
    "corr_prv.to_parquet(path=r'D:\\QuantData\\MinuteFreqFactor\\CICC Factor\\Raw Factor')"
   ],
   "id": "83d4f8ec5acd54df",
   "outputs": [],
   "execution_count": 35
  },
  {
   "metadata": {
    "ExecuteTime": {
     "end_time": "2025-09-01T07:17:35.955539Z",
     "start_time": "2025-09-01T07:17:35.366465Z"
    }
   },
   "cell_type": "code",
   "source": [
    "corr_prvr = Factor('corr_prvr')\n",
    "corr_prvr.cal_exposure_by_min_data(\n",
    "    cal_corr_prvr,\n",
    "    path=r'D:\\QuantData\\MinuteFreqFactor\\CICC Factor\\Raw Factor'\n",
    ")\n",
    "corr_prvr.to_parquet(path=r'D:\\QuantData\\MinuteFreqFactor\\CICC Factor\\Raw Factor')"
   ],
   "id": "81c7a9e41ce5d27",
   "outputs": [],
   "execution_count": 36
  },
  {
   "metadata": {
    "ExecuteTime": {
     "end_time": "2025-09-01T07:17:36.533228Z",
     "start_time": "2025-09-01T07:17:35.960399Z"
    }
   },
   "cell_type": "code",
   "source": [
    "corr_pv = Factor('corr_pv')\n",
    "corr_pv.cal_exposure_by_min_data(\n",
    "    cal_corr_pv,\n",
    "    path=r'D:\\QuantData\\MinuteFreqFactor\\CICC Factor\\Raw Factor'\n",
    ")\n",
    "corr_pv.to_parquet(path=r'D:\\QuantData\\MinuteFreqFactor\\CICC Factor\\Raw Factor')"
   ],
   "id": "53beb07bde0ba774",
   "outputs": [],
   "execution_count": 37
  },
  {
   "metadata": {
    "ExecuteTime": {
     "end_time": "2025-09-01T07:17:37.115100Z",
     "start_time": "2025-09-01T07:17:36.537772Z"
    }
   },
   "cell_type": "code",
   "source": [
    "corr_pvd = Factor('corr_pvd')\n",
    "corr_pvd.cal_exposure_by_min_data(\n",
    "    cal_corr_pvd,\n",
    "    path=r'D:\\QuantData\\MinuteFreqFactor\\CICC Factor\\Raw Factor'\n",
    ")\n",
    "corr_pvd.to_parquet(path=r'D:\\QuantData\\MinuteFreqFactor\\CICC Factor\\Raw Factor')"
   ],
   "id": "557ffb2bcd480648",
   "outputs": [],
   "execution_count": 38
  },
  {
   "metadata": {
    "ExecuteTime": {
     "end_time": "2025-09-01T07:17:37.712862Z",
     "start_time": "2025-09-01T07:17:37.120983Z"
    }
   },
   "cell_type": "code",
   "source": [
    "corr_pvl = Factor('corr_pvl')\n",
    "corr_pvl.cal_exposure_by_min_data(\n",
    "    cal_corr_pvl,\n",
    "    path=r'D:\\QuantData\\MinuteFreqFactor\\CICC Factor\\Raw Factor'\n",
    ")\n",
    "corr_pvl.to_parquet(path=r'D:\\QuantData\\MinuteFreqFactor\\CICC Factor\\Raw Factor')"
   ],
   "id": "1fd3315b0839d0d2",
   "outputs": [],
   "execution_count": 39
  },
  {
   "metadata": {
    "ExecuteTime": {
     "end_time": "2025-09-01T07:17:38.280753Z",
     "start_time": "2025-09-01T07:17:37.718028Z"
    }
   },
   "cell_type": "code",
   "source": [
    "corr_pvr = Factor('corr_pvr')\n",
    "corr_pvr.cal_exposure_by_min_data(\n",
    "    cal_corr_pvr,\n",
    "    path=r'D:\\QuantData\\MinuteFreqFactor\\CICC Factor\\Raw Factor'\n",
    ")\n",
    "corr_pvr.to_parquet(path=r'D:\\QuantData\\MinuteFreqFactor\\CICC Factor\\Raw Factor')"
   ],
   "id": "21c9bcaae7b40c68",
   "outputs": [],
   "execution_count": 40
  },
  {
   "metadata": {},
   "cell_type": "markdown",
   "source": "筹码分布",
   "id": "7c8f1f3d5d1f515b"
  },
  {
   "metadata": {
    "ExecuteTime": {
     "end_time": "2025-09-01T07:17:38.945502Z",
     "start_time": "2025-09-01T07:17:38.285353Z"
    }
   },
   "cell_type": "code",
   "source": [
    "doc_kurt = Factor('doc_kurt')\n",
    "doc_kurt.cal_exposure_by_min_data(\n",
    "    cal_doc_kurt,\n",
    "    path=r'D:\\QuantData\\MinuteFreqFactor\\CICC Factor\\Raw Factor'\n",
    ")\n",
    "doc_kurt.to_parquet(path=r'D:\\QuantData\\MinuteFreqFactor\\CICC Factor\\Raw Factor')"
   ],
   "id": "227951087f7a2cac",
   "outputs": [],
   "execution_count": 41
  },
  {
   "metadata": {
    "ExecuteTime": {
     "end_time": "2025-09-01T07:17:39.577049Z",
     "start_time": "2025-09-01T07:17:38.950531Z"
    }
   },
   "cell_type": "code",
   "source": [
    "doc_skew = Factor('doc_skew')\n",
    "doc_skew.cal_exposure_by_min_data(\n",
    "    cal_doc_skew,\n",
    "    path=r'D:\\QuantData\\MinuteFreqFactor\\CICC Factor\\Raw Factor'\n",
    ")\n",
    "doc_skew.to_parquet(path=r'D:\\QuantData\\MinuteFreqFactor\\CICC Factor\\Raw Factor')"
   ],
   "id": "b86e253d0c4299c4",
   "outputs": [],
   "execution_count": 42
  },
  {
   "metadata": {
    "ExecuteTime": {
     "end_time": "2025-09-01T07:17:40.209722Z",
     "start_time": "2025-09-01T07:17:39.582756Z"
    }
   },
   "cell_type": "code",
   "source": [
    "doc_std = Factor('doc_std')\n",
    "doc_std.cal_exposure_by_min_data(\n",
    "    cal_doc_std,\n",
    "    path=r'D:\\QuantData\\MinuteFreqFactor\\CICC Factor\\Raw Factor'\n",
    ")\n",
    "doc_std.to_parquet(path=r'D:\\QuantData\\MinuteFreqFactor\\CICC Factor\\Raw Factor')"
   ],
   "id": "950128dbc343e620",
   "outputs": [],
   "execution_count": 43
  },
  {
   "metadata": {
    "ExecuteTime": {
     "end_time": "2025-09-01T07:17:41.038253Z",
     "start_time": "2025-09-01T07:17:40.214673Z"
    }
   },
   "cell_type": "code",
   "source": [
    "doc_pdf60 = Factor('doc_pdf60')\n",
    "doc_pdf60.cal_exposure_by_min_data(\n",
    "    cal_doc_pdf60,\n",
    "    path=r'D:\\QuantData\\MinuteFreqFactor\\CICC Factor\\Raw Factor'\n",
    ")\n",
    "doc_pdf60.to_parquet(path=r'D:\\QuantData\\MinuteFreqFactor\\CICC Factor\\Raw Factor')"
   ],
   "id": "71928f534e68bf61",
   "outputs": [],
   "execution_count": 44
  },
  {
   "metadata": {
    "ExecuteTime": {
     "end_time": "2025-09-01T07:17:41.870245Z",
     "start_time": "2025-09-01T07:17:41.047619Z"
    }
   },
   "cell_type": "code",
   "source": [
    "doc_pdf70 = Factor('doc_pdf70')\n",
    "doc_pdf70.cal_exposure_by_min_data(\n",
    "    cal_doc_pdf70,\n",
    "    path=r'D:\\QuantData\\MinuteFreqFactor\\CICC Factor\\Raw Factor'\n",
    ")\n",
    "doc_pdf70.to_parquet(path=r'D:\\QuantData\\MinuteFreqFactor\\CICC Factor\\Raw Factor')"
   ],
   "id": "4b3ac56432c6b085",
   "outputs": [],
   "execution_count": 45
  },
  {
   "metadata": {
    "ExecuteTime": {
     "end_time": "2025-09-01T07:17:42.721566Z",
     "start_time": "2025-09-01T07:17:41.880590Z"
    }
   },
   "cell_type": "code",
   "source": [
    "doc_pdf80 = Factor('doc_pdf80')\n",
    "doc_pdf80.cal_exposure_by_min_data(\n",
    "    cal_doc_pdf80,\n",
    "    path=r'D:\\QuantData\\MinuteFreqFactor\\CICC Factor\\Raw Factor'\n",
    ")\n",
    "doc_pdf80.to_parquet(path=r'D:\\QuantData\\MinuteFreqFactor\\CICC Factor\\Raw Factor')"
   ],
   "id": "45fd34c1a87b1420",
   "outputs": [],
   "execution_count": 46
  },
  {
   "metadata": {
    "ExecuteTime": {
     "end_time": "2025-09-01T07:17:43.498991Z",
     "start_time": "2025-09-01T07:17:42.731247Z"
    }
   },
   "cell_type": "code",
   "source": [
    "doc_pdf90 = Factor('doc_pdf90')\n",
    "doc_pdf90.cal_exposure_by_min_data(\n",
    "    cal_doc_pdf90,\n",
    "    path=r'D:\\QuantData\\MinuteFreqFactor\\CICC Factor\\Raw Factor'\n",
    ")\n",
    "doc_pdf90.to_parquet(path=r'D:\\QuantData\\MinuteFreqFactor\\CICC Factor\\Raw Factor')"
   ],
   "id": "973e097a608e30c1",
   "outputs": [],
   "execution_count": 47
  },
  {
   "metadata": {
    "ExecuteTime": {
     "end_time": "2025-09-01T07:17:44.293644Z",
     "start_time": "2025-09-01T07:17:43.504114Z"
    }
   },
   "cell_type": "code",
   "source": [
    "doc_pdf95 = Factor('doc_pdf95')\n",
    "doc_pdf95.cal_exposure_by_min_data(\n",
    "    cal_doc_pdf95,\n",
    "    path=r'D:\\QuantData\\MinuteFreqFactor\\CICC Factor\\Raw Factor'\n",
    ")\n",
    "doc_pdf95.to_parquet(path=r'D:\\QuantData\\MinuteFreqFactor\\CICC Factor\\Raw Factor')"
   ],
   "id": "9a06e0e70d38283e",
   "outputs": [],
   "execution_count": 48
  },
  {
   "metadata": {
    "ExecuteTime": {
     "end_time": "2025-09-01T07:17:44.889073Z",
     "start_time": "2025-09-01T07:17:44.298509Z"
    }
   },
   "cell_type": "code",
   "source": [
    "doc_vol10_ratio = Factor('doc_vol10_ratio')\n",
    "doc_vol10_ratio.cal_exposure_by_min_data(\n",
    "    cal_doc_vol10_ratio,\n",
    "    path=r'D:\\QuantData\\MinuteFreqFactor\\CICC Factor\\Raw Factor'\n",
    ")\n",
    "doc_vol10_ratio.to_parquet(path=r'D:\\QuantData\\MinuteFreqFactor\\CICC Factor\\Raw Factor')"
   ],
   "id": "747fa938d631b7ed",
   "outputs": [],
   "execution_count": 49
  },
  {
   "metadata": {
    "ExecuteTime": {
     "end_time": "2025-09-01T07:17:45.480036Z",
     "start_time": "2025-09-01T07:17:44.894225Z"
    }
   },
   "cell_type": "code",
   "source": [
    "doc_vol5_ratio = Factor('doc_vol5_ratio')\n",
    "doc_vol5_ratio.cal_exposure_by_min_data(\n",
    "    cal_doc_vol5_ratio,\n",
    "    path=r'D:\\QuantData\\MinuteFreqFactor\\CICC Factor\\Raw Factor'\n",
    ")\n",
    "doc_vol5_ratio.to_parquet(path=r'D:\\QuantData\\MinuteFreqFactor\\CICC Factor\\Raw Factor')"
   ],
   "id": "c9e9a1b8abfd3742",
   "outputs": [],
   "execution_count": 50
  },
  {
   "metadata": {
    "ExecuteTime": {
     "end_time": "2025-09-01T07:17:46.088345Z",
     "start_time": "2025-09-01T07:17:45.485459Z"
    }
   },
   "cell_type": "code",
   "source": [
    "doc_vol50_ratio = Factor('doc_vol50_ratio')\n",
    "doc_vol50_ratio.cal_exposure_by_min_data(\n",
    "    cal_doc_vol50_ratio,\n",
    "    path=r'D:\\QuantData\\MinuteFreqFactor\\CICC Factor\\Raw Factor'\n",
    ")\n",
    "doc_vol50_ratio.to_parquet(path=r'D:\\QuantData\\MinuteFreqFactor\\CICC Factor\\Raw Factor')"
   ],
   "id": "778cde01584ef3fa",
   "outputs": [],
   "execution_count": 51
  },
  {
   "metadata": {},
   "cell_type": "markdown",
   "source": "资金成交",
   "id": "324d679bdb65c933"
  },
  {
   "metadata": {
    "ExecuteTime": {
     "end_time": "2025-09-01T07:17:46.807064Z",
     "start_time": "2025-09-01T07:17:46.093930Z"
    }
   },
   "cell_type": "code",
   "source": [
    "trade_bottom20retRatio = Factor('trade_bottom20retRatio')\n",
    "trade_bottom20retRatio.cal_exposure_by_min_data(\n",
    "    cal_trade_bottom20retRatio,\n",
    "    path=r'D:\\QuantData\\MinuteFreqFactor\\CICC Factor\\Raw Factor'\n",
    ")\n",
    "trade_bottom20retRatio.to_parquet(path=r'D:\\QuantData\\MinuteFreqFactor\\CICC Factor\\Raw Factor')"
   ],
   "id": "76f8410bec83bdf1",
   "outputs": [],
   "execution_count": 52
  },
  {
   "metadata": {
    "ExecuteTime": {
     "end_time": "2025-09-01T07:17:47.472888Z",
     "start_time": "2025-09-01T07:17:46.811802Z"
    }
   },
   "cell_type": "code",
   "source": [
    "trade_bottom50retRatio = Factor('trade_bottom50retRatio')\n",
    "trade_bottom50retRatio.cal_exposure_by_min_data(\n",
    "    cal_trade_bottom50retRatio,\n",
    "    path=r'D:\\QuantData\\MinuteFreqFactor\\CICC Factor\\Raw Factor'\n",
    ")\n",
    "trade_bottom50retRatio.to_parquet(path=r'D:\\QuantData\\MinuteFreqFactor\\CICC Factor\\Raw Factor')"
   ],
   "id": "c077909c8eb3f759",
   "outputs": [],
   "execution_count": 53
  },
  {
   "metadata": {
    "ExecuteTime": {
     "end_time": "2025-09-01T07:17:48.006554Z",
     "start_time": "2025-09-01T07:17:47.478526Z"
    }
   },
   "cell_type": "code",
   "source": [
    "trade_headRatio = Factor('trade_headRatio')\n",
    "trade_headRatio.cal_exposure_by_min_data(\n",
    "    cal_trade_headRatio,\n",
    "    path=r'D:\\QuantData\\MinuteFreqFactor\\CICC Factor\\Raw Factor'\n",
    ")\n",
    "trade_headRatio.to_parquet(path=r'D:\\QuantData\\MinuteFreqFactor\\CICC Factor\\Raw Factor')"
   ],
   "id": "3a85864143439300",
   "outputs": [],
   "execution_count": 54
  },
  {
   "metadata": {
    "ExecuteTime": {
     "end_time": "2025-09-01T07:17:48.548150Z",
     "start_time": "2025-09-01T07:17:48.011940Z"
    }
   },
   "cell_type": "code",
   "source": [
    "trade_tailRatio = Factor('trade_tailRatio')\n",
    "trade_tailRatio.cal_exposure_by_min_data(\n",
    "    cal_trade_tailRatio,\n",
    "    path=r'D:\\QuantData\\MinuteFreqFactor\\CICC Factor\\Raw Factor'\n",
    ")\n",
    "trade_tailRatio.to_parquet(path=r'D:\\QuantData\\MinuteFreqFactor\\CICC Factor\\Raw Factor')"
   ],
   "id": "6fe1ddb8a1699201",
   "outputs": [],
   "execution_count": 55
  },
  {
   "metadata": {
    "ExecuteTime": {
     "end_time": "2025-09-01T07:17:49.344066Z",
     "start_time": "2025-09-01T07:17:48.554441Z"
    }
   },
   "cell_type": "code",
   "source": [
    "trade_top20retRatio = Factor('trade_top20retRatio')\n",
    "trade_top20retRatio.cal_exposure_by_min_data(\n",
    "    cal_trade_top20retRatio,\n",
    "    path=r'D:\\QuantData\\MinuteFreqFactor\\CICC Factor\\Raw Factor'\n",
    ")\n",
    "trade_top20retRatio.to_parquet(path=r'D:\\QuantData\\MinuteFreqFactor\\CICC Factor\\Raw Factor')"
   ],
   "id": "5466d3b7b5204190",
   "outputs": [],
   "execution_count": 56
  },
  {
   "metadata": {
    "ExecuteTime": {
     "end_time": "2025-09-01T07:17:50.193023Z",
     "start_time": "2025-09-01T07:17:49.349313Z"
    }
   },
   "cell_type": "code",
   "source": [
    "trade_top50retRatio = Factor('trade_top50retRatio')\n",
    "trade_top50retRatio.cal_exposure_by_min_data(\n",
    "    cal_trade_top50retRatio,\n",
    "    path=r'D:\\QuantData\\MinuteFreqFactor\\CICC Factor\\Raw Factor'\n",
    ")\n",
    "trade_top50retRatio.to_parquet(path=r'D:\\QuantData\\MinuteFreqFactor\\CICC Factor\\Raw Factor')"
   ],
   "id": "65342ea7738c168c",
   "outputs": [],
   "execution_count": 57
  },
  {
   "metadata": {
    "ExecuteTime": {
     "end_time": "2025-09-01T07:17:50.971710Z",
     "start_time": "2025-09-01T07:17:50.201603Z"
    }
   },
   "cell_type": "code",
   "source": [
    "trade_topNeg20retRatio = Factor('trade_topNeg20retRatio')\n",
    "trade_topNeg20retRatio.cal_exposure_by_min_data(\n",
    "    cal_trade_topNeg20retRatio,\n",
    "    path=r'D:\\QuantData\\MinuteFreqFactor\\CICC Factor\\Raw Factor'\n",
    ")\n",
    "trade_topNeg20retRatio.to_parquet(path=r'D:\\QuantData\\MinuteFreqFactor\\CICC Factor\\Raw Factor')"
   ],
   "id": "d8106f8814ae53d4",
   "outputs": [],
   "execution_count": 58
  },
  {
   "metadata": {
    "ExecuteTime": {
     "end_time": "2025-09-01T07:17:51.762499Z",
     "start_time": "2025-09-01T07:17:50.976934Z"
    }
   },
   "cell_type": "code",
   "source": [
    "trade_topPos20retRatio = Factor('trade_topPos20retRatio')\n",
    "trade_topPos20retRatio.cal_exposure_by_min_data(\n",
    "    cal_trade_topPos20retRatio,\n",
    "    path=r'D:\\QuantData\\MinuteFreqFactor\\CICC Factor\\Raw Factor'\n",
    ")\n",
    "trade_topPos20retRatio.to_parquet(path=r'D:\\QuantData\\MinuteFreqFactor\\CICC Factor\\Raw Factor')"
   ],
   "id": "17c5af6047084124",
   "outputs": [],
   "execution_count": 59
  },
  {
   "metadata": {},
   "cell_type": "markdown",
   "source": "因子合成",
   "id": "33cb336712eeaa21"
  },
  {
   "metadata": {
    "ExecuteTime": {
     "end_time": "2025-09-01T07:17:51.771532Z",
     "start_time": "2025-09-01T07:17:51.768292Z"
    }
   },
   "cell_type": "code",
   "source": [
    "raw_factor_list = [\n",
    "    mmt_pm, mmt_last30, mmt_paratio, mmt_am, mmt_between,\n",
    "    mmt_ols_qrs, mmt_ols_corr_square_mean, mmt_ols_corr_mean,\n",
    "    mmt_ols_beta_mean, mmt_ols_beta_zscore_last,\n",
    "    mmt_top50VolumeRet, mmt_bottom50VolumeRet,\n",
    "    mmt_top20VolumeRet, mmt_bottom50VolumeRet,\n",
    "    vol_volume1min, vol_range1min,\n",
    "    vol_upVol, vol_upRatio, vol_downVol, vol_downRatio,\n",
    "    shape_skew, shape_kurt, shape_skratio,\n",
    "    shape_skewVol, shape_kurtVol, shape_skratioVol,\n",
    "    liq_amihud_1min, liq_closeprevol, liq_closevol,  liq_openvol,\n",
    "    liq_firstCallR, liq_lastCallR,\n",
    "    corr_prv, corr_prvr, corr_pv, corr_pvd, corr_pvl, corr_pvr,\n",
    "    doc_kurt, doc_skew, doc_std,\n",
    "    doc_pdf60, doc_pdf70, doc_pdf80, doc_pdf90, doc_pdf95,\n",
    "    doc_vol10_ratio, doc_vol5_ratio, doc_vol50_ratio,\n",
    "    trade_bottom20retRatio, trade_bottom50retRatio,\n",
    "    trade_top20retRatio, trade_top50retRatio,\n",
    "    trade_headRatio, trade_tailRatio,\n",
    "    trade_topPos20retRatio, trade_topNeg20retRatio\n",
    "]"
   ],
   "id": "af9f61e14c7bfa7e",
   "outputs": [],
   "execution_count": 60
  },
  {
   "metadata": {
    "ExecuteTime": {
     "end_time": "2025-09-01T07:53:08.087075Z",
     "start_time": "2025-09-01T07:17:51.779470Z"
    }
   },
   "cell_type": "code",
   "source": [
    "record = []\n",
    "for f in tqdm(raw_factor_list):\n",
    "    for d in [5, 20]:\n",
    "        for m in ['o', 'm', 'z', 'std']:\n",
    "            new_f = Factor(\n",
    "                factor_name=f'{f.factor_name}_{d}_{m}',\n",
    "                factor_exposure=f.cal_final_exposure(\n",
    "                    frequency=d, method=m, mode='days'\n",
    "                )\n",
    "            )\n",
    "            try:\n",
    "                new_f.ic_test(plot_out=False)\n",
    "                record.append(\n",
    "                    (\n",
    "                        new_f.factor_name,\n",
    "                        new_f.IC, new_f.ICIR, new_f.rank_IC, new_f.rank_ICIR\n",
    "                    )\n",
    "                )\n",
    "                new_f.to_parquet(path=r'D:\\QuantData\\MinuteFreqFactor\\CICC Factor\\Final Factor')\n",
    "            except Exception as e:\n",
    "                print(e, new_f.factor_name, '\\n')"
   ],
   "id": "a82c86c6f9b119cd",
   "outputs": [
    {
     "name": "stderr",
     "output_type": "stream",
     "text": [
      "  9%|▉         | 5/57 [03:12<33:47, 38.99s/it]"
     ]
    },
    {
     "name": "stdout",
     "output_type": "stream",
     "text": [
      "unsupported operand type(s) for /: 'float' and 'NoneType' mmt_ols_qrs_20_z \n",
      "\n"
     ]
    },
    {
     "name": "stderr",
     "output_type": "stream",
     "text": [
      "100%|██████████| 57/57 [35:16<00:00, 37.13s/it]\n"
     ]
    }
   ],
   "execution_count": 61
  },
  {
   "metadata": {
    "ExecuteTime": {
     "end_time": "2025-09-01T07:53:08.231745Z",
     "start_time": "2025-09-01T07:53:08.210592Z"
    }
   },
   "cell_type": "code",
   "source": [
    "factor_info = pl.from_records(record, schema={\n",
    "    'factor_name': pl.String,\n",
    "    'IC': pl.Float64,\n",
    "    'ICIR': pl.Float64,\n",
    "    'rank_IC': pl.Float64,\n",
    "    'rank_ICIR': pl.Float64\n",
    "}, orient=\"row\").with_columns(\n",
    "    pl.col('factor_name')\n",
    "    .str.split('_')\n",
    "    .list.first()\n",
    "    .alias('factor_type')\n",
    ").select(\n",
    "    pl.col('factor_type'),\n",
    "    pl.col('factor_name'),\n",
    "    pl.col('IC').abs(),\n",
    "    pl.col('ICIR').abs(),\n",
    "    pl.col('rank_IC').abs(),\n",
    "    pl.col('rank_ICIR').abs()\n",
    ")"
   ],
   "id": "4791990c93a6d5d",
   "outputs": [],
   "execution_count": 62
  },
  {
   "metadata": {
    "ExecuteTime": {
     "end_time": "2025-09-01T07:53:08.288771Z",
     "start_time": "2025-09-01T07:53:08.246246Z"
    }
   },
   "cell_type": "code",
   "source": "factor_info",
   "id": "93fda97d292a4ae2",
   "outputs": [
    {
     "data": {
      "text/plain": [
       "shape: (455, 6)\n",
       "┌─────────────┬───────────────────────────────┬──────────┬──────────┬──────────┬───────────┐\n",
       "│ factor_type ┆ factor_name                   ┆ IC       ┆ ICIR     ┆ rank_IC  ┆ rank_ICIR │\n",
       "│ ---         ┆ ---                           ┆ ---      ┆ ---      ┆ ---      ┆ ---       │\n",
       "│ str         ┆ str                           ┆ f64      ┆ f64      ┆ f64      ┆ f64       │\n",
       "╞═════════════╪═══════════════════════════════╪══════════╪══════════╪══════════╪═══════════╡\n",
       "│ mmt         ┆ mmt_pm_5_o                    ┆ 0.035972 ┆ 0.435049 ┆ 0.036617 ┆ 0.348132  │\n",
       "│ mmt         ┆ mmt_pm_5_m                    ┆ 0.047453 ┆ 0.565347 ┆ 0.048012 ┆ 0.471156  │\n",
       "│ mmt         ┆ mmt_pm_5_z                    ┆ 0.017156 ┆ 0.247981 ┆ 0.020094 ┆ 0.248191  │\n",
       "│ mmt         ┆ mmt_pm_5_std                  ┆ 0.042974 ┆ 0.402571 ┆ 0.057759 ┆ 0.441723  │\n",
       "│ mmt         ┆ mmt_pm_20_o                   ┆ 0.035972 ┆ 0.435049 ┆ 0.036617 ┆ 0.348132  │\n",
       "│ …           ┆ …                             ┆ …        ┆ …        ┆ …        ┆ …         │\n",
       "│ trade       ┆ trade_topNeg20retRatio_5_std  ┆ 0.002121 ┆ 0.047736 ┆ 0.01525  ┆ 0.172521  │\n",
       "│ trade       ┆ trade_topNeg20retRatio_20_o   ┆ 0.011711 ┆ 0.239803 ┆ 0.03316  ┆ 0.376086  │\n",
       "│ trade       ┆ trade_topNeg20retRatio_20_m   ┆ 0.00755  ┆ 0.078093 ┆ 0.036849 ┆ 0.258609  │\n",
       "│ trade       ┆ trade_topNeg20retRatio_20_z   ┆ 0.009805 ┆ 0.148693 ┆ 0.010282 ┆ 0.145272  │\n",
       "│ trade       ┆ trade_topNeg20retRatio_20_std ┆ 0.000354 ┆ 0.005876 ┆ 0.022439 ┆ 0.193276  │\n",
       "└─────────────┴───────────────────────────────┴──────────┴──────────┴──────────┴───────────┘"
      ],
      "text/html": [
       "<div><style>\n",
       ".dataframe > thead > tr,\n",
       ".dataframe > tbody > tr {\n",
       "  text-align: right;\n",
       "  white-space: pre-wrap;\n",
       "}\n",
       "</style>\n",
       "<small>shape: (455, 6)</small><table border=\"1\" class=\"dataframe\"><thead><tr><th>factor_type</th><th>factor_name</th><th>IC</th><th>ICIR</th><th>rank_IC</th><th>rank_ICIR</th></tr><tr><td>str</td><td>str</td><td>f64</td><td>f64</td><td>f64</td><td>f64</td></tr></thead><tbody><tr><td>&quot;mmt&quot;</td><td>&quot;mmt_pm_5_o&quot;</td><td>0.035972</td><td>0.435049</td><td>0.036617</td><td>0.348132</td></tr><tr><td>&quot;mmt&quot;</td><td>&quot;mmt_pm_5_m&quot;</td><td>0.047453</td><td>0.565347</td><td>0.048012</td><td>0.471156</td></tr><tr><td>&quot;mmt&quot;</td><td>&quot;mmt_pm_5_z&quot;</td><td>0.017156</td><td>0.247981</td><td>0.020094</td><td>0.248191</td></tr><tr><td>&quot;mmt&quot;</td><td>&quot;mmt_pm_5_std&quot;</td><td>0.042974</td><td>0.402571</td><td>0.057759</td><td>0.441723</td></tr><tr><td>&quot;mmt&quot;</td><td>&quot;mmt_pm_20_o&quot;</td><td>0.035972</td><td>0.435049</td><td>0.036617</td><td>0.348132</td></tr><tr><td>&hellip;</td><td>&hellip;</td><td>&hellip;</td><td>&hellip;</td><td>&hellip;</td><td>&hellip;</td></tr><tr><td>&quot;trade&quot;</td><td>&quot;trade_topNeg20retRatio_5_std&quot;</td><td>0.002121</td><td>0.047736</td><td>0.01525</td><td>0.172521</td></tr><tr><td>&quot;trade&quot;</td><td>&quot;trade_topNeg20retRatio_20_o&quot;</td><td>0.011711</td><td>0.239803</td><td>0.03316</td><td>0.376086</td></tr><tr><td>&quot;trade&quot;</td><td>&quot;trade_topNeg20retRatio_20_m&quot;</td><td>0.00755</td><td>0.078093</td><td>0.036849</td><td>0.258609</td></tr><tr><td>&quot;trade&quot;</td><td>&quot;trade_topNeg20retRatio_20_z&quot;</td><td>0.009805</td><td>0.148693</td><td>0.010282</td><td>0.145272</td></tr><tr><td>&quot;trade&quot;</td><td>&quot;trade_topNeg20retRatio_20_std&quot;</td><td>0.000354</td><td>0.005876</td><td>0.022439</td><td>0.193276</td></tr></tbody></table></div>"
      ]
     },
     "execution_count": 63,
     "metadata": {},
     "output_type": "execute_result"
    }
   ],
   "execution_count": 63
  }
 ],
 "metadata": {
  "kernelspec": {
   "display_name": "Python 3",
   "language": "python",
   "name": "python3"
  },
  "language_info": {
   "codemirror_mode": {
    "name": "ipython",
    "version": 2
   },
   "file_extension": ".py",
   "mimetype": "text/x-python",
   "name": "python",
   "nbconvert_exporter": "python",
   "pygments_lexer": "ipython2",
   "version": "2.7.6"
  }
 },
 "nbformat": 4,
 "nbformat_minor": 5
}
